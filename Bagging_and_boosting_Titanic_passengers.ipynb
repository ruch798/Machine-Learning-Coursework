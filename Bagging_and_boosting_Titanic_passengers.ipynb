{
  "nbformat": 4,
  "nbformat_minor": 0,
  "metadata": {
    "kernelspec": {
      "display_name": "Python 3",
      "language": "python",
      "name": "python3"
    },
    "language_info": {
      "codemirror_mode": {
        "name": "ipython",
        "version": 3
      },
      "file_extension": ".py",
      "mimetype": "text/x-python",
      "name": "python",
      "nbconvert_exporter": "python",
      "pygments_lexer": "ipython3",
      "version": "3.6.5"
    },
    "colab": {
      "name": "Bagging and boosting Titanic passengers.ipynb",
      "provenance": []
    }
  },
  "cells": [
    {
      "cell_type": "code",
      "metadata": {
        "_cell_guid": "180dfb40-bf0b-490a-921a-f783be004175",
        "_uuid": "d1187096b259ddbb09e341297180747ca9efc7ae",
        "id": "UsjZqKcv0lr3",
        "colab_type": "code",
        "colab": {}
      },
      "source": [
        "%matplotlib inline\n",
        "import pandas as pd\n",
        "import numpy as np\n",
        "import re\n",
        "import time\n",
        "import matplotlib.pyplot as plt\n",
        "\n",
        "# Import the train and test datasets\n",
        "train = pd.read_csv('train.csv')\n",
        "test = pd.read_csv('test.csv')\n",
        "\n",
        "# Combine the two datasets\n",
        "entire = pd.merge(train, test, how='outer')"
      ],
      "execution_count": null,
      "outputs": []
    },
    {
      "cell_type": "code",
      "metadata": {
        "_cell_guid": "a1e92d7f-fcff-4f58-ad74-18994d9cd3fc",
        "_uuid": "3003e90eebfd502155229c3899590b35cff6ac1b",
        "id": "-QPXONBT0lr7",
        "colab_type": "code",
        "colab": {},
        "outputId": "7e5e828b-1191-4f78-b1b8-085567914ebb"
      },
      "source": [
        "num_feat = list(entire.dtypes[entire.dtypes != 'object'].index)\n",
        "categ_feat = list(entire.dtypes[entire.dtypes == 'object'].index)\n",
        "print(\"Categorical features:\", categ_feat)\n",
        "print(\"Numerical features:\", num_feat)"
      ],
      "execution_count": null,
      "outputs": [
        {
          "output_type": "stream",
          "text": [
            "Categorical features: ['Name', 'Sex', 'Ticket', 'Cabin', 'Embarked']\n",
            "Numerical features: ['PassengerId', 'Survived', 'Pclass', 'Age', 'SibSp', 'Parch', 'Fare']\n"
          ],
          "name": "stdout"
        }
      ]
    },
    {
      "cell_type": "code",
      "metadata": {
        "_cell_guid": "cecf7803-12af-4f4c-8801-1ee809fe164e",
        "_uuid": "47f625b870ebfe515af338b61d76315d86900706",
        "id": "PK46hH4X0lr-",
        "colab_type": "code",
        "colab": {},
        "outputId": "ed369127-ee9d-450a-fd3b-e964645e2b9c"
      },
      "source": [
        "features_without_Survived = [f for f in num_feat + categ_feat if f != 'Survived']\n",
        "# Call describe method on the two main sets. First, the training set.\n",
        "print(entire[entire.Survived.notnull()].describe())"
      ],
      "execution_count": null,
      "outputs": [
        {
          "output_type": "stream",
          "text": [
            "       PassengerId    Survived      Pclass         Age       SibSp  \\\n",
            "count   891.000000  891.000000  891.000000  714.000000  891.000000   \n",
            "mean    446.000000    0.383838    2.308642   29.699118    0.523008   \n",
            "std     257.353842    0.486592    0.836071   14.526497    1.102743   \n",
            "min       1.000000    0.000000    1.000000    0.420000    0.000000   \n",
            "25%     223.500000    0.000000    2.000000   20.125000    0.000000   \n",
            "50%     446.000000    0.000000    3.000000   28.000000    0.000000   \n",
            "75%     668.500000    1.000000    3.000000   38.000000    1.000000   \n",
            "max     891.000000    1.000000    3.000000   80.000000    8.000000   \n",
            "\n",
            "            Parch        Fare  \n",
            "count  891.000000  891.000000  \n",
            "mean     0.381594   32.204208  \n",
            "std      0.806057   49.693429  \n",
            "min      0.000000    0.000000  \n",
            "25%      0.000000    7.910400  \n",
            "50%      0.000000   14.454200  \n",
            "75%      0.000000   31.000000  \n",
            "max      6.000000  512.329200  \n"
          ],
          "name": "stdout"
        }
      ]
    },
    {
      "cell_type": "code",
      "metadata": {
        "_cell_guid": "0791cdee-1c03-45b4-8d68-22c59f9f6831",
        "_uuid": "88a89e089da5565afd148fa556babc3d852fb460",
        "id": "23iOd8vN0lsA",
        "colab_type": "code",
        "colab": {},
        "outputId": "37cdcf86-e885-4880-a7f6-062eb5e4158f"
      },
      "source": [
        "print(entire[entire.Survived.isnull()].describe())"
      ],
      "execution_count": null,
      "outputs": [
        {
          "output_type": "stream",
          "text": [
            "       PassengerId  Survived      Pclass         Age       SibSp       Parch  \\\n",
            "count   418.000000       0.0  418.000000  332.000000  418.000000  418.000000   \n",
            "mean   1100.500000       NaN    2.265550   30.272590    0.447368    0.392344   \n",
            "std     120.810458       NaN    0.841838   14.181209    0.896760    0.981429   \n",
            "min     892.000000       NaN    1.000000    0.170000    0.000000    0.000000   \n",
            "25%     996.250000       NaN    1.000000   21.000000    0.000000    0.000000   \n",
            "50%    1100.500000       NaN    3.000000   27.000000    0.000000    0.000000   \n",
            "75%    1204.750000       NaN    3.000000   39.000000    1.000000    0.000000   \n",
            "max    1309.000000       NaN    3.000000   76.000000    8.000000    9.000000   \n",
            "\n",
            "             Fare  \n",
            "count  417.000000  \n",
            "mean    35.627188  \n",
            "std     55.907576  \n",
            "min      0.000000  \n",
            "25%      7.895800  \n",
            "50%     14.454200  \n",
            "75%     31.500000  \n",
            "max    512.329200  \n"
          ],
          "name": "stdout"
        }
      ]
    },
    {
      "cell_type": "code",
      "metadata": {
        "_cell_guid": "67f8c614-7f98-49d3-93fc-79e56ffb0876",
        "_uuid": "bc45726f5aff6f49ca9f6a4d1dbd51ef684f50a0",
        "id": "nez0jO_a0lsD",
        "colab_type": "code",
        "colab": {}
      },
      "source": [
        "def show_nan(df):\n",
        "    if True not in df[features_without_Survived].isnull().values:\n",
        "        print(\"The entire dataset does not contain missing value.\")\n",
        "    else:\n",
        "        print(\"The entire dataset contains:\")\n",
        "        for c in df.columns:\n",
        "            if (c != 'Survived') & (True in df[c].isnull().values):\n",
        "                l = [df[c].isnull().value_counts()[True], \n",
        "                     round((df[c].isnull().value_counts()[True] /\\\n",
        "                            df.PassengerId.count()), 5),\n",
        "                     c]\n",
        "                msg = (\"\\t- {} ({:.1%}) missing values for feature\"\n",
        "                       \" '{}'\".format(*l))\n",
        "                print(msg)"
      ],
      "execution_count": null,
      "outputs": []
    },
    {
      "cell_type": "code",
      "metadata": {
        "_cell_guid": "d1102f6e-87ec-40e0-97dc-7ec526929437",
        "_uuid": "b4a86bf372b75a83c8c8cf4457257da37ca941b4",
        "id": "ek8C5s5D0lsF",
        "colab_type": "code",
        "colab": {},
        "outputId": "24743bdb-b907-4a76-9541-b9991ea89f77"
      },
      "source": [
        "show_nan(entire)"
      ],
      "execution_count": null,
      "outputs": [
        {
          "output_type": "stream",
          "text": [
            "The entire dataset contains:\n",
            "\t- 263 (20.1%) missing values for feature 'Age'\n",
            "\t- 1 (0.1%) missing values for feature 'Fare'\n",
            "\t- 1014 (77.5%) missing values for feature 'Cabin'\n",
            "\t- 2 (0.2%) missing values for feature 'Embarked'\n"
          ],
          "name": "stdout"
        }
      ]
    },
    {
      "cell_type": "code",
      "metadata": {
        "_cell_guid": "aceab801-6b33-424a-b9aa-ffeeffce185f",
        "_uuid": "fe83c6c49fb04051a3c8fb5fdd8a6c51d3bae7cf",
        "id": "yDNj609Q0lsH",
        "colab_type": "code",
        "colab": {},
        "outputId": "91a4314f-7b81-4c36-b097-6808cc910500"
      },
      "source": [
        "entire.Name[entire.Age.isnull()].head(3)"
      ],
      "execution_count": null,
      "outputs": [
        {
          "output_type": "execute_result",
          "data": {
            "text/plain": [
              "5                 Moran, Mr. James\n",
              "17    Williams, Mr. Charles Eugene\n",
              "19         Masselmani, Mrs. Fatima\n",
              "Name: Name, dtype: object"
            ]
          },
          "metadata": {
            "tags": []
          },
          "execution_count": 8
        }
      ]
    },
    {
      "cell_type": "code",
      "metadata": {
        "_cell_guid": "737b5a1d-52c2-44ef-ae38-b3713762d1c5",
        "_uuid": "ef7b86d05ff61bb23bbd06320fc9121439c0c053",
        "id": "jYZnqZyK0lsK",
        "colab_type": "code",
        "colab": {}
      },
      "source": [
        "def plot_bar(df, feat_x, feat_y, normalize=True):\n",
        "    \"\"\" Plot with vertical bars of the requested dataframe and features\"\"\"\n",
        "    \n",
        "    ct = pd.crosstab(df[feat_x], df[feat_y])\n",
        "    if normalize == True:\n",
        "        ct = ct.div(ct.sum(axis=1), axis=0)\n",
        "    return ct.plot(kind='bar', stacked=True)"
      ],
      "execution_count": null,
      "outputs": []
    },
    {
      "cell_type": "code",
      "metadata": {
        "_cell_guid": "62375c7f-47d0-4126-8c67-2db8e40e4e18",
        "_uuid": "e7c7f1ad7a6c6cf4709d8ebc0b086ee1f6aa0df1",
        "id": "WUyljCwA0lsM",
        "colab_type": "code",
        "colab": {},
        "outputId": "db0c3e1a-5e28-49fe-b0f8-46886e98c532"
      },
      "source": [
        "plot_bar(train, 'Pclass', 'Survived')\n",
        "plt.show()"
      ],
      "execution_count": null,
      "outputs": [
        {
          "output_type": "display_data",
          "data": {
            "image/png": "[encoded data removed]",
            "text/plain": [
              "<Figure size 432x288 with 1 Axes>"
            ]
          },
          "metadata": {
            "tags": []
          }
        }
      ]
    },
    {
      "cell_type": "code",
      "metadata": {
        "_cell_guid": "8533331f-634f-4092-955b-bb0e1d97998f",
        "_uuid": "02422f233fa29fa89c0c631afe6eaa2a9d3116fb",
        "id": "rnmFee6Q0lsO",
        "colab_type": "code",
        "colab": {},
        "outputId": "defa54c6-4367-4036-d1ef-0070f5e40a39"
      },
      "source": [
        "plot_bar(train, 'SibSp', 'Survived')\n",
        "plt.show()"
      ],
      "execution_count": null,
      "outputs": [
        {
          "output_type": "display_data",
          "data": {
            "image/png": "[encoded data removed]",
            "text/plain": [
              "<Figure size 432x288 with 1 Axes>"
            ]
          },
          "metadata": {
            "tags": []
          }
        }
      ]
    },
    {
      "cell_type": "code",
      "metadata": {
        "_cell_guid": "665e7399-5686-4156-920b-f08ce3dbf910",
        "_uuid": "7d3ef4a4bd33650c9f834074dc49f010ce4ef0fd",
        "id": "OxmbYLnO0lsR",
        "colab_type": "code",
        "colab": {},
        "outputId": "3195e161-57ce-4bd9-9eaa-70ed1d3f964b"
      },
      "source": [
        "plot_bar(train, 'Parch', 'Survived')\n",
        "plt.show()"
      ],
      "execution_count": null,
      "outputs": [
        {
          "output_type": "display_data",
          "data": {
            "image/png": "[encoded data removed]",
            "text/plain": [
              "<Figure size 432x288 with 1 Axes>"
            ]
          },
          "metadata": {
            "tags": []
          }
        }
      ]
    },
    {
      "cell_type": "code",
      "metadata": {
        "_cell_guid": "70e01a0d-aab4-4dbe-8085-d74b27f5da68",
        "_uuid": "f0a023a490adfbaf862e0ff722ac7749195f8f26",
        "id": "iPq0_uU90lsT",
        "colab_type": "code",
        "colab": {},
        "outputId": "d3f43e91-6907-4a41-e034-e24752e5c510"
      },
      "source": [
        "# Plot the survival rates of the different \"Sex\" feature\n",
        "plot_bar(train, 'Sex', 'Survived')\n",
        "plt.show()"
      ],
      "execution_count": null,
      "outputs": [
        {
          "output_type": "display_data",
          "data": {
            "image/png": "[encoded data removed]",
            "text/plain": [
              "<Figure size 432x288 with 1 Axes>"
            ]
          },
          "metadata": {
            "tags": []
          }
        }
      ]
    },
    {
      "cell_type": "code",
      "metadata": {
        "_cell_guid": "d2cd2daf-b056-4f15-bce0-aa957d7f77fe",
        "_uuid": "ff7db545062c15e79621ed0e731abc0efb6fda6e",
        "id": "h1QQRteb0lsU",
        "colab_type": "code",
        "colab": {},
        "outputId": "9953fe54-3334-443a-e9dc-6a2c4bdc7ed6"
      },
      "source": [
        "plot_bar(train, 'Embarked', 'Survived')\n",
        "plt.show()"
      ],
      "execution_count": null,
      "outputs": [
        {
          "output_type": "display_data",
          "data": {
            "image/png": "[encoded data removed]",
            "text/plain": [
              "<Figure size 432x288 with 1 Axes>"
            ]
          },
          "metadata": {
            "tags": []
          }
        }
      ]
    },
    {
      "cell_type": "code",
      "metadata": {
        "_cell_guid": "7b156d63-b873-48ee-adc1-8237f0adb2a3",
        "_uuid": "1e2afad6f386875c237da8098d985a5955622b57",
        "id": "AvDXWEzI0lsW",
        "colab_type": "code",
        "colab": {},
        "outputId": "ac0a76bb-a8b7-49e1-a30a-c94e1bbd4d61"
      },
      "source": [
        "plot_bar(train, 'Cabin', 'Survived')\n",
        "plt.show()"
      ],
      "execution_count": null,
      "outputs": [
        {
          "output_type": "display_data",
          "data": {
            "image/png": "[encoded data removed]",
            "text/plain": [
              "<Figure size 432x288 with 1 Axes>"
            ]
          },
          "metadata": {
            "tags": []
          }
        }
      ]
    },
    {
      "cell_type": "code",
      "metadata": {
        "_cell_guid": "89358762-3bc0-4206-99b0-eb5a3a78af4f",
        "_uuid": "6e5a672b915f830fd7a8e1c01f49e88e61b4fefe",
        "id": "kUJC2BML0lsd",
        "colab_type": "code",
        "colab": {}
      },
      "source": [
        "def create_status(name):\n",
        "    \"\"\"From \"Name\" feature extract the status\"\"\"\n",
        "    m = re.search(\" [A-Za-z]+\\.\", name)\n",
        "    if m:\n",
        "        status = re.sub('\\.', '', re.sub(\" \", \"\", m.group(0)))\n",
        "        return status\n",
        "    else:\n",
        "        return \"None\"\n",
        "\n",
        "for df in [entire, train]:\n",
        "    df['Status'] = df['Name'].apply(create_status)\n",
        "    df = df.drop(['Name'], axis=1)"
      ],
      "execution_count": null,
      "outputs": []
    },
    {
      "cell_type": "code",
      "metadata": {
        "_cell_guid": "9a362e6f-cde0-4df0-9721-5ae270d4cc95",
        "_uuid": "4f5b47de43059de41562670afad624397774aba2",
        "id": "uLqO7xFM0lsf",
        "colab_type": "code",
        "colab": {},
        "outputId": "8be7874c-7206-4915-db75-fe2c1b099165"
      },
      "source": [
        "entire.Status.value_counts()"
      ],
      "execution_count": null,
      "outputs": [
        {
          "output_type": "execute_result",
          "data": {
            "text/plain": [
              "Mr          757\n",
              "Miss        260\n",
              "Mrs         197\n",
              "Master       61\n",
              "Rev           8\n",
              "Dr            8\n",
              "Col           4\n",
              "Major         2\n",
              "Ms            2\n",
              "Mlle          2\n",
              "Sir           1\n",
              "Lady          1\n",
              "Mme           1\n",
              "Jonkheer      1\n",
              "Dona          1\n",
              "Countess      1\n",
              "Capt          1\n",
              "Don           1\n",
              "Name: Status, dtype: int64"
            ]
          },
          "metadata": {
            "tags": []
          },
          "execution_count": 17
        }
      ]
    },
    {
      "cell_type": "code",
      "metadata": {
        "_cell_guid": "773f4415-e3ad-4fee-b3aa-a5ed4b444d36",
        "_uuid": "a389bf620249a75ec4cac99d0d3456d04f133804",
        "id": "J0QLE5L_0lsh",
        "colab_type": "code",
        "colab": {},
        "outputId": "6f957949-8cae-4f5e-b825-af58d22a12a4"
      },
      "source": [
        "# List the rare status to group in one \"Rare\" group\n",
        "list_rare = ['Dr', 'Rev', 'Col', 'Major', 'Sir', 'Lady',\n",
        "             'Dona', 'Don', 'Jonkheer', 'Countess', 'Capt']\n",
        "\n",
        "for df in [entire, train]:\n",
        "    # \"Mme\", is the French equivalent of \"Mrs\"\n",
        "    df['Status'] = df['Status'].replace([\"Mme\", \"Ms\"], \"Mrs\")\n",
        "    # \"Mlle\": \"Miss\"\n",
        "    df['Status'] = df['Status'].replace([\"Mlle\"], \"Miss\")\n",
        "    # Create \"Rare\" status\n",
        "    df['Status'] = df['Status'].replace(list_rare, \"Rare\")\n",
        "# Print the final 'Status' for each dataset\n",
        "print(\"\\nNumber of counts per 'Status' value in the entire dataset:\")\n",
        "print(entire['Status'].value_counts())"
      ],
      "execution_count": null,
      "outputs": [
        {
          "output_type": "stream",
          "text": [
            "\n",
            "Number of counts per 'Status' value in the entire dataset:\n",
            "Mr        757\n",
            "Miss      262\n",
            "Mrs       200\n",
            "Master     61\n",
            "Rare       29\n",
            "Name: Status, dtype: int64\n"
          ],
          "name": "stdout"
        }
      ]
    },
    {
      "cell_type": "markdown",
      "metadata": {
        "_cell_guid": "13d297ab-7d9a-46b5-a107-4c0d96f6e05e",
        "_uuid": "98132ee6df551664cc27b12037ce1cf678c4d5b6",
        "id": "7XubpE5G0lsj",
        "colab_type": "text"
      },
      "source": [
        "`Status` feature being created, we can now plot its correlation with the survival rate using the training set."
      ]
    },
    {
      "cell_type": "code",
      "metadata": {
        "_cell_guid": "d068bcd7-eb75-40a9-8695-1a7550b4ae44",
        "_uuid": "d1efb47352e488e52afb93cb7348605de3201f46",
        "id": "EB8NjMir0lsj",
        "colab_type": "code",
        "colab": {},
        "outputId": "f9856986-e7ef-4604-da64-b234806c0f27"
      },
      "source": [
        "plot_bar(train, 'Status', 'Survived')\n",
        "plt.show()"
      ],
      "execution_count": null,
      "outputs": [
        {
          "output_type": "display_data",
          "data": {
            "image/png": "[encoded data removed]",
            "text/plain": [
              "<Figure size 432x288 with 1 Axes>"
            ]
          },
          "metadata": {
            "tags": []
          }
        }
      ]
    },
    {
      "cell_type": "code",
      "metadata": {
        "_cell_guid": "4adae4c5-83f3-44ea-89c8-bdde20f67752",
        "_uuid": "db2b0f0dc55f0db9dfedd77725f50eb1150c14ca",
        "id": "j868-9Kk0lsm",
        "colab_type": "code",
        "colab": {}
      },
      "source": [
        "def family_size(number):\n",
        "    if number == 1:\n",
        "        return 'single'\n",
        "    if 2 <= number <= 3:\n",
        "        return 'small_family'\n",
        "    if 4 <= number <= 5:\n",
        "        return 'medium_family'\n",
        "    if number > 5:\n",
        "        return 'large_family'\n",
        "    \n",
        "for df in [entire, train]:\n",
        "    df['FamilySize'] = df['SibSp'] + df['Parch'] + 1\n",
        "    df['FamilySize'] = df['FamilySize'].apply(family_size)"
      ],
      "execution_count": null,
      "outputs": []
    },
    {
      "cell_type": "code",
      "metadata": {
        "_cell_guid": "8a80777b-bdd6-4e66-b91a-985af44cf7a5",
        "_uuid": "a7fc588b461bb430c8ec0c7b77346a8ce933d666",
        "id": "BvAjriSt0lso",
        "colab_type": "code",
        "colab": {},
        "outputId": "34578329-5d4e-4b08-9189-ea0cd5b7be1a"
      },
      "source": [
        "plot_bar(train, 'FamilySize', 'Survived')\n",
        "plt.show()"
      ],
      "execution_count": null,
      "outputs": [
        {
          "output_type": "display_data",
          "data": {
            "image/png": "[encoded data removed]",
            "text/plain": [
              "<Figure size 432x288 with 1 Axes>"
            ]
          },
          "metadata": {
            "tags": []
          }
        }
      ]
    },
    {
      "cell_type": "code",
      "metadata": {
        "_cell_guid": "0f9e3b6c-3beb-488a-908f-8a89f00b3ddd",
        "_uuid": "344f3f997a49d20774a8fd2109167bf2976f98ea",
        "id": "C78KL2Op0lsq",
        "colab_type": "code",
        "colab": {}
      },
      "source": [
        "entire['Embarked'] = entire['Embarked'].fillna(\"S\")"
      ],
      "execution_count": null,
      "outputs": []
    },
    {
      "cell_type": "code",
      "metadata": {
        "_cell_guid": "c43a8adf-e570-47a4-91b0-4f6a164d707d",
        "_uuid": "23518762f993abb901d6c80d31b599fc570406ad",
        "id": "qPuDfb0I0lss",
        "colab_type": "code",
        "colab": {},
        "outputId": "c916e565-126f-4bc0-99e5-764ec609386d"
      },
      "source": [
        "entire[entire.Fare.isnull()]"
      ],
      "execution_count": null,
      "outputs": [
        {
          "output_type": "execute_result",
          "data": {
            "text/html": [
              "<div>\n",
              "<style scoped>\n",
              "    .dataframe tbody tr th:only-of-type {\n",
              "        vertical-align: middle;\n",
              "    }\n",
              "\n",
              "    .dataframe tbody tr th {\n",
              "        vertical-align: top;\n",
              "    }\n",
              "\n",
              "    .dataframe thead th {\n",
              "        text-align: right;\n",
              "    }\n",
              "</style>\n",
              "<table border=\"1\" class=\"dataframe\">\n",
              "  <thead>\n",
              "    <tr style=\"text-align: right;\">\n",
              "      <th></th>\n",
              "      <th>PassengerId</th>\n",
              "      <th>Survived</th>\n",
              "      <th>Pclass</th>\n",
              "      <th>Name</th>\n",
              "      <th>Sex</th>\n",
              "      <th>Age</th>\n",
              "      <th>SibSp</th>\n",
              "      <th>Parch</th>\n",
              "      <th>Ticket</th>\n",
              "      <th>Fare</th>\n",
              "      <th>Cabin</th>\n",
              "      <th>Embarked</th>\n",
              "      <th>Status</th>\n",
              "      <th>FamilySize</th>\n",
              "    </tr>\n",
              "  </thead>\n",
              "  <tbody>\n",
              "    <tr>\n",
              "      <th>1043</th>\n",
              "      <td>1044</td>\n",
              "      <td>NaN</td>\n",
              "      <td>3</td>\n",
              "      <td>Storey, Mr. Thomas</td>\n",
              "      <td>male</td>\n",
              "      <td>60.5</td>\n",
              "      <td>0</td>\n",
              "      <td>0</td>\n",
              "      <td>3701</td>\n",
              "      <td>NaN</td>\n",
              "      <td>NaN</td>\n",
              "      <td>S</td>\n",
              "      <td>Mr</td>\n",
              "      <td>single</td>\n",
              "    </tr>\n",
              "  </tbody>\n",
              "</table>\n",
              "</div>"
            ],
            "text/plain": [
              "      PassengerId  Survived  Pclass                Name   Sex   Age  SibSp  \\\n",
              "1043         1044       NaN       3  Storey, Mr. Thomas  male  60.5      0   \n",
              "\n",
              "      Parch Ticket  Fare Cabin Embarked Status FamilySize  \n",
              "1043      0   3701   NaN   NaN        S     Mr     single  "
            ]
          },
          "metadata": {
            "tags": []
          },
          "execution_count": 23
        }
      ]
    },
    {
      "cell_type": "code",
      "metadata": {
        "_cell_guid": "8c587d3d-4d36-4973-97d3-5bdc1b24f9b2",
        "_uuid": "1c716c678572541773821bebd17dc34ff3094128",
        "id": "VJfhv4pU0lsu",
        "colab_type": "code",
        "colab": {},
        "outputId": "2b4e0e39-4b41-44aa-f0a1-48184cf27235"
      },
      "source": [
        "# Mr. Storey travelled in 3rd class. Let's find out the median value on the entire dataset:\n",
        "link_fare_pclass = entire.groupby('Pclass')['Fare'].median()\n",
        "link_fare_pclass"
      ],
      "execution_count": null,
      "outputs": [
        {
          "output_type": "execute_result",
          "data": {
            "text/plain": [
              "Pclass\n",
              "1    60.0000\n",
              "2    15.0458\n",
              "3     8.0500\n",
              "Name: Fare, dtype: float64"
            ]
          },
          "metadata": {
            "tags": []
          },
          "execution_count": 24
        }
      ]
    },
    {
      "cell_type": "code",
      "metadata": {
        "_cell_guid": "00820c18-9f4d-48ed-96a9-0366950648aa",
        "_uuid": "af8c027f1fa92a5951fce9425b762742128fb0f1",
        "id": "x4-oUo610lsw",
        "colab_type": "code",
        "colab": {}
      },
      "source": [
        "# We can then fill in the missing value\n",
        "entire.Fare = entire.Fare.fillna(link_fare_pclass[3])"
      ],
      "execution_count": null,
      "outputs": []
    },
    {
      "cell_type": "code",
      "metadata": {
        "_cell_guid": "0bf11f0b-22af-4d4b-8279-4b68f2e4800b",
        "_uuid": "dd97225adf324c89a55e89445fc381e03de1c311",
        "id": "eiZPRVHx0lsy",
        "colab_type": "code",
        "colab": {}
      },
      "source": [
        "entire.Cabin = entire.Cabin.fillna('Unknown')\n",
        "entire.Cabin = entire.Cabin.apply(lambda cabin_name: cabin_name[0])\n",
        "\n",
        "# Return to np.nan values thanks to replace method\n",
        "entire.Cabin = entire.Cabin.replace('U', np.nan)\n",
        "\n",
        "# Create a groupby object grouping the entire dataset by \"Ticket\"\n",
        "gbyTicket = entire.groupby('Ticket')"
      ],
      "execution_count": null,
      "outputs": []
    },
    {
      "cell_type": "code",
      "metadata": {
        "_cell_guid": "44e24908-7f24-4a51-b939-7d614f2be20b",
        "_uuid": "81afa71be5dfe8d210060e03bc91707fd43ae9fc",
        "id": "AX2npSWV0ls0",
        "colab_type": "code",
        "colab": {},
        "outputId": "0e56ead4-0161-4f60-d925-7eaba2331b8c"
      },
      "source": [
        "# Now we will focus on the groups of gbyTicket that contain both missing and non missing\n",
        "# values for Cabin feature\n",
        "# The missing values will eventually be replaced by the value of the others\n",
        "dict_ticket_cabin = {}\n",
        "for ti, gr in gbyTicket:\n",
        "    if (True in gr['Cabin'].isnull().values) and\\\n",
        "       (False in gr['Cabin'].isnull().values):\n",
        "        print(\"\\n******************** Ticket n°{} ********************\".format(ti))\n",
        "        print(gr[['Cabin', 'Pclass', 'Fare', 'SibSp', 'Parch',\n",
        "                  'FamilySize', 'Embarked']])\n",
        "        # Fill in dict_ticket_cabin with the corresponding cabin values,\n",
        "        # when a \"Ticket\" value is shared\n",
        "        dict_ticket_cabin[ti] = gr['Cabin'].describe()['top']\n",
        "    else:\n",
        "        # Fill in dict_ticket_cabin when no \"Ticket\" value is shared in the group\n",
        "        # grouped by \"Ticket\"\n",
        "        dict_ticket_cabin[ti] = 'U'"
      ],
      "execution_count": null,
      "outputs": [
        {
          "output_type": "stream",
          "text": [
            "\n",
            "******************** Ticket n°113781 ********************\n",
            "     Cabin  Pclass    Fare  SibSp  Parch     FamilySize Embarked\n",
            "297      C       1  151.55      1      2  medium_family        S\n",
            "305      C       1  151.55      1      2  medium_family        S\n",
            "498      C       1  151.55      1      2  medium_family        S\n",
            "708    NaN       1  151.55      0      0         single        S\n",
            "1032   NaN       1  151.55      0      0         single        S\n",
            "1197     C       1  151.55      1      2  medium_family        S\n",
            "\n",
            "******************** Ticket n°17421 ********************\n",
            "    Cabin  Pclass      Fare  SibSp  Parch    FamilySize Embarked\n",
            "306   NaN       1  110.8833      0      0        single        C\n",
            "550     C       1  110.8833      0      2  small_family        C\n",
            "581     C       1  110.8833      1      1  small_family        C\n",
            "698     C       1  110.8833      1      1  small_family        C\n",
            "\n",
            "******************** Ticket n°19877 ********************\n",
            "    Cabin  Pclass   Fare  SibSp  Parch    FamilySize Embarked\n",
            "290   NaN       1  78.85      0      0        single        S\n",
            "741     C       1  78.85      1      0  small_family        S\n",
            "987     C       1  78.85      1      0  small_family        S\n",
            "\n",
            "******************** Ticket n°24160 ********************\n",
            "     Cabin  Pclass      Fare  SibSp  Parch    FamilySize Embarked\n",
            "689      B       1  211.3375      0      1  small_family        S\n",
            "730      B       1  211.3375      0      0        single        S\n",
            "779      B       1  211.3375      0      1  small_family        S\n",
            "1215   NaN       1  211.3375      0      0        single        S\n",
            "\n",
            "******************** Ticket n°2668 ********************\n",
            "     Cabin  Pclass     Fare  SibSp  Parch    FamilySize Embarked\n",
            "128      F       3  22.3583      1      1  small_family        C\n",
            "533    NaN       3  22.3583      0      2  small_family        C\n",
            "1308   NaN       3  22.3583      1      1  small_family        C\n",
            "\n",
            "******************** Ticket n°36928 ********************\n",
            "     Cabin  Pclass      Fare  SibSp  Parch    FamilySize Embarked\n",
            "318      C       1  164.8667      0      2  small_family        S\n",
            "856    NaN       1  164.8667      1      1  small_family        S\n",
            "1108   NaN       1  164.8667      1      1  small_family        S\n",
            "1291     C       1  164.8667      0      0        single        S\n",
            "\n",
            "******************** Ticket n°PC 17608 ********************\n",
            "     Cabin  Pclass     Fare  SibSp  Parch     FamilySize Embarked\n",
            "311      B       1  262.375      2      2  medium_family        C\n",
            "742      B       1  262.375      2      2  medium_family        C\n",
            "915      B       1  262.375      1      3  medium_family        C\n",
            "950      B       1  262.375      0      0         single        C\n",
            "955      B       1  262.375      2      2  medium_family        C\n",
            "1033     B       1  262.375      1      3  medium_family        C\n",
            "1266   NaN       1  262.375      0      0         single        C\n",
            "\n",
            "******************** Ticket n°PC 17755 ********************\n",
            "     Cabin  Pclass      Fare  SibSp  Parch    FamilySize Embarked\n",
            "258    NaN       1  512.3292      0      0        single        C\n",
            "679      B       1  512.3292      0      1  small_family        C\n",
            "737      B       1  512.3292      0      0        single        C\n",
            "1234     B       1  512.3292      0      1  small_family        C\n",
            "\n",
            "******************** Ticket n°PC 17757 ********************\n",
            "     Cabin  Pclass     Fare  SibSp  Parch    FamilySize Embarked\n",
            "380    NaN       1  227.525      0      0        single        C\n",
            "557    NaN       1  227.525      0      0        single        C\n",
            "700      C       1  227.525      1      0  small_family        C\n",
            "716      C       1  227.525      0      0        single        C\n",
            "1093     C       1  227.525      1      0  small_family        C\n",
            "\n",
            "******************** Ticket n°PC 17760 ********************\n",
            "     Cabin  Pclass      Fare  SibSp  Parch FamilySize Embarked\n",
            "269      C       1  135.6333      0      0     single        S\n",
            "325      C       1  135.6333      0      0     single        C\n",
            "373    NaN       1  135.6333      0      0     single        C\n",
            "1205     C       1  135.6333      0      0     single        C\n",
            "\n",
            "******************** Ticket n°PC 17761 ********************\n",
            "     Cabin  Pclass     Fare  SibSp  Parch    FamilySize Embarked\n",
            "537    NaN       1  106.425      0      0        single        C\n",
            "544      C       1  106.425      1      0  small_family        C\n",
            "1130     C       1  106.425      1      0  small_family        C\n",
            "\n",
            "******************** Ticket n°S.O./P.P. 3 ********************\n",
            "    Cabin  Pclass  Fare  SibSp  Parch FamilySize Embarked\n",
            "772     E       2  10.5      0      0     single        S\n",
            "841   NaN       2  10.5      0      0     single        S\n"
          ],
          "name": "stdout"
        }
      ]
    },
    {
      "cell_type": "markdown",
      "metadata": {
        "_cell_guid": "2d00658c-22dd-4c82-b587-1ad68c8583c4",
        "_uuid": "2a24f4a9eaaec574e40e8e4acb1f3f1dc06eb716",
        "id": "ecvM-KSa0ls2",
        "colab_type": "text"
      },
      "source": [
        "We can see that 16 `Cabin` missing values can be filled with their corresponding group value. `dict_ticket_cabin` was created in the previous cell in order to link the ticket number to the corresponding cabin name.\n",
        "Every `Cabin` missing value linked to a same `Ticket` value is linked to the corresponding shared `Cabin` value. If no `Ticket` value is shared, then \"U\" will be provided to the `Cabin` missing value."
      ]
    },
    {
      "cell_type": "code",
      "metadata": {
        "_cell_guid": "9e5ed121-7d75-48bc-85c2-397af7505ec5",
        "_uuid": "143f70ac2664efcaef09092f9251ed49ebb157b4",
        "id": "x0XQnivL0ls2",
        "colab_type": "code",
        "colab": {}
      },
      "source": [
        "# Function allowing filling missing values with the ones contained in \"dict_mean_ages\" dictionary\n",
        "# Groups have a \"name\" attribute set internally, we then can use that:\n",
        "fill_cabin_from_dict = lambda g: g.fillna(dict_ticket_cabin[g.name])"
      ],
      "execution_count": null,
      "outputs": []
    },
    {
      "cell_type": "code",
      "metadata": {
        "_cell_guid": "2b243f56-f342-4cf8-99c2-84db801d03df",
        "_uuid": "ce98a7c42e3d55b363c7e62c0eeff79b05df8195",
        "id": "P5Xwln5L0ls4",
        "colab_type": "code",
        "colab": {},
        "outputId": "153782ca-58ce-43c3-8e32-4eba7364c559"
      },
      "source": [
        "#Before filling in the \"Cabin\" missing data, let's use \"show_nan\" function\n",
        "show_nan(entire)"
      ],
      "execution_count": null,
      "outputs": [
        {
          "output_type": "stream",
          "text": [
            "The entire dataset contains:\n",
            "\t- 263 (20.1%) missing values for feature 'Age'\n",
            "\t- 1014 (77.5%) missing values for feature 'Cabin'\n"
          ],
          "name": "stdout"
        }
      ]
    },
    {
      "cell_type": "code",
      "metadata": {
        "_cell_guid": "28fce19b-2fed-4164-b63e-63596a44b3b3",
        "_uuid": "7f529ba04d7a96921e405dfaff5ec7141d8eb77f",
        "id": "J1O2QpR-0ls5",
        "colab_type": "code",
        "colab": {},
        "outputId": "eb85312f-1f50-4084-f58d-7713939e6ee2"
      },
      "source": [
        "entire['Cabin'] = entire.groupby('Ticket')['Cabin'].apply(fill_cabin_from_dict)\n",
        "\n",
        "# Use show_nan again to see if \"fill_cabin_from_dict\" worked\n",
        "show_nan(entire)"
      ],
      "execution_count": null,
      "outputs": [
        {
          "output_type": "stream",
          "text": [
            "The entire dataset contains:\n",
            "\t- 263 (20.1%) missing values for feature 'Age'\n"
          ],
          "name": "stdout"
        }
      ]
    },
    {
      "cell_type": "code",
      "metadata": {
        "_cell_guid": "4b5caba5-2af8-44fa-bf0b-a9b7fc1ff96d",
        "_uuid": "91a42d56c86fb7a4388d91720c0d0801284db5e4",
        "id": "n8_xLnhs0ls7",
        "colab_type": "code",
        "colab": {},
        "outputId": "28c8a2f9-e2d7-4cc4-bab1-830e3cac51ec"
      },
      "source": [
        "train['Cabin'] = entire.groupby('Ticket')['Cabin'].apply(fill_cabin_from_dict)\n",
        "plot_bar(train, 'Cabin', 'Survived')\n",
        "plt.show()"
      ],
      "execution_count": null,
      "outputs": [
        {
          "output_type": "display_data",
          "data": {
            "image/png": "[encoded data removed]",
            "text/plain": [
              "<Figure size 432x288 with 1 Axes>"
            ]
          },
          "metadata": {
            "tags": []
          }
        }
      ]
    },
    {
      "cell_type": "code",
      "metadata": {
        "_cell_guid": "71b89571-51e6-4d39-b33b-a06ddc0fed0d",
        "_uuid": "78cd6ed336ea22fcc3421048c9f2b4ba0e9df988",
        "id": "fmcjKHZa0ls9",
        "colab_type": "code",
        "colab": {},
        "outputId": "db6ae0a3-a61f-4e5b-85f9-b4d9fe473c5e"
      },
      "source": [
        "age_median = entire.groupby(['Status', 'Pclass'])['Age'].agg(['median', 'count'])\n",
        "age_median = age_median.reset_index()\n",
        "age_median"
      ],
      "execution_count": null,
      "outputs": [
        {
          "output_type": "execute_result",
          "data": {
            "text/html": [
              "<div>\n",
              "<style scoped>\n",
              "    .dataframe tbody tr th:only-of-type {\n",
              "        vertical-align: middle;\n",
              "    }\n",
              "\n",
              "    .dataframe tbody tr th {\n",
              "        vertical-align: top;\n",
              "    }\n",
              "\n",
              "    .dataframe thead th {\n",
              "        text-align: right;\n",
              "    }\n",
              "</style>\n",
              "<table border=\"1\" class=\"dataframe\">\n",
              "  <thead>\n",
              "    <tr style=\"text-align: right;\">\n",
              "      <th></th>\n",
              "      <th>Status</th>\n",
              "      <th>Pclass</th>\n",
              "      <th>median</th>\n",
              "      <th>count</th>\n",
              "    </tr>\n",
              "  </thead>\n",
              "  <tbody>\n",
              "    <tr>\n",
              "      <th>0</th>\n",
              "      <td>Master</td>\n",
              "      <td>1</td>\n",
              "      <td>6.0</td>\n",
              "      <td>5</td>\n",
              "    </tr>\n",
              "    <tr>\n",
              "      <th>1</th>\n",
              "      <td>Master</td>\n",
              "      <td>2</td>\n",
              "      <td>2.0</td>\n",
              "      <td>11</td>\n",
              "    </tr>\n",
              "    <tr>\n",
              "      <th>2</th>\n",
              "      <td>Master</td>\n",
              "      <td>3</td>\n",
              "      <td>6.0</td>\n",
              "      <td>37</td>\n",
              "    </tr>\n",
              "    <tr>\n",
              "      <th>3</th>\n",
              "      <td>Miss</td>\n",
              "      <td>1</td>\n",
              "      <td>30.0</td>\n",
              "      <td>61</td>\n",
              "    </tr>\n",
              "    <tr>\n",
              "      <th>4</th>\n",
              "      <td>Miss</td>\n",
              "      <td>2</td>\n",
              "      <td>20.0</td>\n",
              "      <td>48</td>\n",
              "    </tr>\n",
              "    <tr>\n",
              "      <th>5</th>\n",
              "      <td>Miss</td>\n",
              "      <td>3</td>\n",
              "      <td>18.0</td>\n",
              "      <td>103</td>\n",
              "    </tr>\n",
              "    <tr>\n",
              "      <th>6</th>\n",
              "      <td>Mr</td>\n",
              "      <td>1</td>\n",
              "      <td>41.5</td>\n",
              "      <td>132</td>\n",
              "    </tr>\n",
              "    <tr>\n",
              "      <th>7</th>\n",
              "      <td>Mr</td>\n",
              "      <td>2</td>\n",
              "      <td>30.0</td>\n",
              "      <td>137</td>\n",
              "    </tr>\n",
              "    <tr>\n",
              "      <th>8</th>\n",
              "      <td>Mr</td>\n",
              "      <td>3</td>\n",
              "      <td>26.0</td>\n",
              "      <td>312</td>\n",
              "    </tr>\n",
              "    <tr>\n",
              "      <th>9</th>\n",
              "      <td>Mrs</td>\n",
              "      <td>1</td>\n",
              "      <td>45.0</td>\n",
              "      <td>68</td>\n",
              "    </tr>\n",
              "    <tr>\n",
              "      <th>10</th>\n",
              "      <td>Mrs</td>\n",
              "      <td>2</td>\n",
              "      <td>30.0</td>\n",
              "      <td>55</td>\n",
              "    </tr>\n",
              "    <tr>\n",
              "      <th>11</th>\n",
              "      <td>Mrs</td>\n",
              "      <td>3</td>\n",
              "      <td>31.0</td>\n",
              "      <td>49</td>\n",
              "    </tr>\n",
              "    <tr>\n",
              "      <th>12</th>\n",
              "      <td>Rare</td>\n",
              "      <td>1</td>\n",
              "      <td>48.5</td>\n",
              "      <td>18</td>\n",
              "    </tr>\n",
              "    <tr>\n",
              "      <th>13</th>\n",
              "      <td>Rare</td>\n",
              "      <td>2</td>\n",
              "      <td>41.5</td>\n",
              "      <td>10</td>\n",
              "    </tr>\n",
              "  </tbody>\n",
              "</table>\n",
              "</div>"
            ],
            "text/plain": [
              "    Status  Pclass  median  count\n",
              "0   Master       1     6.0      5\n",
              "1   Master       2     2.0     11\n",
              "2   Master       3     6.0     37\n",
              "3     Miss       1    30.0     61\n",
              "4     Miss       2    20.0     48\n",
              "5     Miss       3    18.0    103\n",
              "6       Mr       1    41.5    132\n",
              "7       Mr       2    30.0    137\n",
              "8       Mr       3    26.0    312\n",
              "9      Mrs       1    45.0     68\n",
              "10     Mrs       2    30.0     55\n",
              "11     Mrs       3    31.0     49\n",
              "12    Rare       1    48.5     18\n",
              "13    Rare       2    41.5     10"
            ]
          },
          "metadata": {
            "tags": []
          },
          "execution_count": 32
        }
      ]
    },
    {
      "cell_type": "markdown",
      "metadata": {
        "_cell_guid": "fd71c432-a688-4355-a02d-626b21ba2998",
        "_uuid": "b8c5c8353d84310ec3fe3fe3d66e313c993d5f13",
        "id": "Bg-X55Ye0ls-",
        "colab_type": "text"
      },
      "source": [
        "We can now fill in the `Age` missing values with these median values."
      ]
    },
    {
      "cell_type": "code",
      "metadata": {
        "_cell_guid": "8f6ed9b0-4cc8-4b86-8f68-7cf9080e7266",
        "_uuid": "af715b7361804728bdd26d9914c200d4e7b26e15",
        "id": "IF-mK_BO0ls_",
        "colab_type": "code",
        "colab": {},
        "outputId": "f3b456b7-c8cc-4a93-bf0a-126fa28101d8"
      },
      "source": [
        "for index in entire[entire.Age.isnull()].index:\n",
        "    median = age_median[(age_median.Status == entire.iloc[index]['Status']) &\\\n",
        "                        (age_median.Pclass == entire.iloc[index]['Pclass'])\\\n",
        "                       ]['median'].values[0]\n",
        "    entire.set_value(index, 'Age', median)"
      ],
      "execution_count": null,
      "outputs": [
        {
          "output_type": "stream",
          "text": [
            "C:\\Users\\dell\\Anaconda3\\lib\\site-packages\\ipykernel_launcher.py:3: FutureWarning: set_value is deprecated and will be removed in a future release. Please use .at[] or .iat[] accessors instead\n",
            "  This is separate from the ipykernel package so we can avoid doing imports until\n"
          ],
          "name": "stderr"
        }
      ]
    },
    {
      "cell_type": "code",
      "metadata": {
        "_cell_guid": "6e23663f-7f99-45a2-b8f1-fb30d81855b1",
        "_uuid": "7cf2500dd9ed05957cb585665e5bf2a65481e091",
        "id": "SSRhXPGM0ltA",
        "colab_type": "code",
        "colab": {},
        "outputId": "5adcfb17-2602-4b28-a5b7-58181dabcd45"
      },
      "source": [
        "show_nan(entire)"
      ],
      "execution_count": null,
      "outputs": [
        {
          "output_type": "stream",
          "text": [
            "The entire dataset does not contain missing value.\n"
          ],
          "name": "stdout"
        }
      ]
    },
    {
      "cell_type": "code",
      "metadata": {
        "_cell_guid": "6e471d74-5e30-4803-a0c1-a8d630354279",
        "_uuid": "618d37ea7de53e66e99b4c28dffea74d4f670380",
        "id": "P8_cIOJ70ltB",
        "colab_type": "code",
        "colab": {}
      },
      "source": [
        "categ_age = pd.qcut(entire.Age, 8, labels=range(8), retbins=True)\n",
        "entire['Age_category'] = categ_age[0]"
      ],
      "execution_count": null,
      "outputs": []
    },
    {
      "cell_type": "code",
      "metadata": {
        "_cell_guid": "85257083-32ae-484b-97f2-c9ff2a53a446",
        "_uuid": "05423be417374c2aea7a398ca2f7721b8d973e85",
        "id": "EubWbvLV0ltD",
        "colab_type": "code",
        "colab": {}
      },
      "source": [
        "categ_fare = pd.qcut(entire.Fare, 8, labels=range(8), retbins=True)\n",
        "entire['Fare_category'] = categ_fare[0]"
      ],
      "execution_count": null,
      "outputs": []
    },
    {
      "cell_type": "code",
      "metadata": {
        "_cell_guid": "2039f804-c122-4317-bd22-31a48112df49",
        "_uuid": "02bcfe4a9cbe6e96739cef72bb1ff1f67d063f75",
        "id": "G5aDMKoG0ltE",
        "colab_type": "code",
        "colab": {}
      },
      "source": [
        "entire = entire.drop(['Ticket', 'PassengerId',  'Name',\n",
        "                      'SibSp', 'Parch', 'Age', 'Fare'],\n",
        "                     axis=1)"
      ],
      "execution_count": null,
      "outputs": []
    },
    {
      "cell_type": "code",
      "metadata": {
        "_cell_guid": "6715149d-a5b9-4033-a3ce-82dc2aeddf1d",
        "_uuid": "83fc5b9d42c8e56ff043381ca73734e110ab4395",
        "id": "PJeGgCje0ltG",
        "colab_type": "code",
        "colab": {},
        "outputId": "15547230-6dd9-4807-bd34-49384f7d0057"
      },
      "source": [
        "# Ordered features transformation\n",
        "ordered = {\n",
        "    'Pclass': [3, 2, 1],\n",
        "    'FamilySize': ['single', 'small_family', 'medium_family', 'large_family'],\n",
        "}\n",
        "for feat, val in ordered.items():\n",
        "    entire[feat] = entire[feat].astype('category',\n",
        "                                       categories=val,\n",
        "                                       ordered=True).cat.codes\n",
        "\n",
        "# Non-ordered features transformation\n",
        "non_ordered = ['Sex', 'Status', 'Embarked', 'Cabin']\n",
        "entire = pd.get_dummies(entire, columns=non_ordered, drop_first=True)"
      ],
      "execution_count": null,
      "outputs": [
        {
          "output_type": "stream",
          "text": [
            "C:\\Users\\dell\\Anaconda3\\lib\\site-packages\\ipykernel_launcher.py:9: FutureWarning: specifying 'categories' or 'ordered' in .astype() is deprecated; pass a CategoricalDtype instead\n",
            "  if __name__ == '__main__':\n"
          ],
          "name": "stderr"
        }
      ]
    },
    {
      "cell_type": "code",
      "metadata": {
        "_cell_guid": "37a952c3-34d7-4077-9998-3ab5ad1a77eb",
        "_uuid": "e62ea81274ef3fdd9d16a8c3f23b1477c191bd0a",
        "id": "a9YsjFMi0ltH",
        "colab_type": "code",
        "colab": {}
      },
      "source": [
        "#List of features for train set\n",
        "feat_train = entire.columns.values\n",
        "# List of features for test set\n",
        "feat_test = [feat for feat in feat_train if feat != 'Survived']"
      ],
      "execution_count": null,
      "outputs": []
    },
    {
      "cell_type": "code",
      "metadata": {
        "_cell_guid": "3c474b14-2bda-4e9f-bc7c-96918d276cc2",
        "_uuid": "3c48b2322a23f7a718714d518b50367478f9f5fc",
        "id": "5gOYi1wj0ltJ",
        "colab_type": "code",
        "colab": {}
      },
      "source": [
        "# Create the (X, y) training vectors to be injected in ours classifiers\n",
        "X_train = entire[entire.Survived.notnull()].drop(['Survived'], axis=1)\n",
        "y_train = entire[entire.Survived.notnull()]['Survived']\n",
        "\n",
        "# Split the training set into a development and an evaluation sets\n",
        "from sklearn.model_selection import train_test_split\n",
        "X_dev, X_eval, y_dev, y_eval = train_test_split(X_train,\n",
        "                                                y_train,\n",
        "                                                test_size=0.2,\n",
        "                                                random_state=42)\n",
        "# And the test set\n",
        "X_test = entire[entire.Survived.isnull()].drop(['Survived'], axis=1)"
      ],
      "execution_count": null,
      "outputs": []
    },
    {
      "cell_type": "code",
      "metadata": {
        "_cell_guid": "f697e2f6-afcb-4675-89d1-f8912f21134d",
        "_uuid": "7446af59553485d1f5d47dccecf818df89f2854e",
        "id": "EB3rMo880ltK",
        "colab_type": "code",
        "colab": {}
      },
      "source": [
        "# Import classifiers\n",
        "from sklearn.ensemble import (RandomForestClassifier,\n",
        "                              GradientBoostingClassifier,\n",
        "                              AdaBoostClassifier)\n",
        "\n",
        "from sklearn.metrics import accuracy_score\n",
        "from sklearn.metrics import confusion_matrix\n",
        "from sklearn.metrics import roc_curve,auc\n",
        "import sklearn.metrics as metrics"
      ],
      "execution_count": null,
      "outputs": []
    },
    {
      "cell_type": "code",
      "metadata": {
        "_cell_guid": "3afe7a46-baef-462e-ac25-d520b5047a6b",
        "_uuid": "d4a871079e760785e2bc355281536dff280ef40e",
        "id": "Ks4YbqV90ltM",
        "colab_type": "code",
        "colab": {},
        "outputId": "a4defbdb-1776-4826-9a3f-7f3ab51afd42"
      },
      "source": [
        "# Use them without any hyperparameters tuning\n",
        "models = [RandomForestClassifier(random_state=77),\n",
        "          GradientBoostingClassifier(random_state=77),\n",
        "          AdaBoostClassifier(random_state=77)]\n",
        "\n",
        "from sklearn.model_selection import cross_val_score, GridSearchCV\n",
        "\n",
        "for model in models:\n",
        "    score = cross_val_score(model, X_dev, y_dev, cv=5)\n",
        "    msg = (\"{0}:\\n\\tMean accuracy on development set\\t= {1:.3f} \"\n",
        "           \"(+/- {2:.3f})\".format(model.__class__.__name__,\n",
        "                                  score.mean(),\n",
        "                                  score.std()))\n",
        "    print(msg)\n",
        "    \n",
        "    # Fit the model on the dev set and predict and eval independent set\n",
        "    model.fit(X_dev, y_dev)\n",
        "    pred_eval = model.predict(X_eval)\n",
        "    acc_eval = accuracy_score(y_eval, pred_eval)\n",
        "    cm = confusion_matrix(y_eval, pred_eval)\n",
        "      \n",
        "    print(\"\\tAccuracy on evaluation set\\t\\t= {0:.3f}\".format(acc_eval))\n",
        "    print(\"\\tConfusion matrix on evaluation set\")\n",
        "    print(cm)\n",
        "    \n",
        "    fpr, tpr, _ = roc_curve(y_eval, pred_eval)\n",
        "\n",
        "    # Calculate the AUC\n",
        "    roc_auc = auc(fpr, tpr)\n",
        "    print(\"\\tROC AUC on evaluation set\")\n",
        "    print(roc_auc)\n",
        "\n",
        "    # Plot of a ROC curve for a specific class\n",
        "    plt.figure()\n",
        "    plt.plot(fpr, tpr, label='ROC curve (area = %0.2f)' % roc_auc)\n",
        "    plt.plot([0, 1], [0, 1], 'k--')\n",
        "    plt.xlim([0.0, 1.0])\n",
        "    plt.ylim([0.0, 1.05])\n",
        "    plt.xlabel('False Positive Rate')\n",
        "    plt.ylabel('True Positive Rate')\n",
        "    plt.title('ROC Curve')\n",
        "    plt.legend(loc=\"lower right\")\n",
        "    plt.show()"
      ],
      "execution_count": null,
      "outputs": [
        {
          "output_type": "stream",
          "text": [
            "RandomForestClassifier:\n",
            "\tMean accuracy on development set\t= 0.819 (+/- 0.015)\n",
            "\tAccuracy on evaluation set\t\t= 0.832\n",
            "\tConfusion matrix on evaluation set\n",
            "[[92 13]\n",
            " [17 57]]\n",
            "\tROC AUC on evaluation set\n",
            "0.8232303732303732\n"
          ],
          "name": "stdout"
        },
        {
          "output_type": "display_data",
          "data": {
            "image/png": "[encoded data removed]",
            "text/plain": [
              "<Figure size 432x288 with 1 Axes>"
            ]
          },
          "metadata": {
            "tags": []
          }
        },
        {
          "output_type": "stream",
          "text": [
            "GradientBoostingClassifier:\n",
            "\tMean accuracy on development set\t= 0.827 (+/- 0.032)\n",
            "\tAccuracy on evaluation set\t\t= 0.832\n",
            "\tConfusion matrix on evaluation set\n",
            "[[90 15]\n",
            " [15 59]]\n",
            "\tROC AUC on evaluation set\n",
            "0.8272200772200773\n"
          ],
          "name": "stdout"
        },
        {
          "output_type": "display_data",
          "data": {
            "image/png": "[encoded data removed]",
            "text/plain": [
              "<Figure size 432x288 with 1 Axes>"
            ]
          },
          "metadata": {
            "tags": []
          }
        },
        {
          "output_type": "stream",
          "text": [
            "AdaBoostClassifier:\n",
            "\tMean accuracy on development set\t= 0.812 (+/- 0.025)\n",
            "\tAccuracy on evaluation set\t\t= 0.821\n",
            "\tConfusion matrix on evaluation set\n",
            "[[87 18]\n",
            " [14 60]]\n",
            "\tROC AUC on evaluation set\n",
            "0.8196911196911196\n"
          ],
          "name": "stdout"
        },
        {
          "output_type": "display_data",
          "data": {
            "image/png": "[encoded data removed]",
            "text/plain": [
              "<Figure size 432x288 with 1 Axes>"
            ]
          },
          "metadata": {
            "tags": []
          }
        }
      ]
    },
    {
      "cell_type": "markdown",
      "metadata": {
        "_cell_guid": "267e675a-6632-4aa3-84c8-bb597fdf6905",
        "_uuid": "b1c6e8aa22acd10b1cc6420b5260827a4d9cb939",
        "id": "kVwXtX4r0ltO",
        "colab_type": "text"
      },
      "source": [
        "The models having the lowest standard deviation are RandomForest and AdaBoost, which indicates that the variance of these models is quite low, which is what we're looking for in order to finally obtain a model that can generalize well. Over these three models, the least biased is the AdaBoost model as the difference between its development and evaluation sets accuracies is the smallest. The best accuracies over the evaluation set are obtained with RandomForest and GradientBoosting.\n",
        "Scaling isn't necessary as these three models are not sensitive to data scaling.\n",
        "\n",
        "Let's tune the hyperparameters with our three classifiers. The `dict_clf` dictionary will be filled in with the estimators names, their best parameters combination, best score and fitting time.\n",
        "Nota: the calculation time being limited for kernels, I reduced the size of my grid of parameter values, which will affect the final accuracy. One can expand the range of paramgrid keys values in order to improve your score!"
      ]
    },
    {
      "cell_type": "code",
      "metadata": {
        "_cell_guid": "f0b26150-28f3-466e-93b1-ddf446d46bdb",
        "_uuid": "d0d454d2ac185bb6e77241b5c85c1beaf5371fbd",
        "id": "3sUbZQpF0ltP",
        "colab_type": "code",
        "colab": {}
      },
      "source": [
        "# Import time module in order to get the time spent by GridSearchCV with all the\n",
        "# different classifiers\n",
        "import time\n",
        "dict_clf = {}"
      ],
      "execution_count": null,
      "outputs": []
    },
    {
      "cell_type": "code",
      "metadata": {
        "_cell_guid": "b5dbbd57-c3fc-4747-9681-0ca38ce57506",
        "_uuid": "42fa63ede0017b75606b3b46d890f4014f0b4405",
        "id": "C7Ahjqv30ltQ",
        "colab_type": "code",
        "colab": {}
      },
      "source": [
        "# 1. Random Forest\n",
        "paramgrid = {\n",
        "    'n_estimators':      [100, 200, 500, 750, 1000],\n",
        "    'criterion':         ['gini', 'entropy'],\n",
        "    'max_features':      ['auto', 'log2'],\n",
        "    'min_samples_leaf':  list(range(2, 7))\n",
        "}\n",
        "GS = GridSearchCV(RandomForestClassifier(random_state=77),\n",
        "                  paramgrid,\n",
        "                  cv=4)\n",
        "t0 = time.time()\n",
        "GS.fit(X_dev, y_dev)\n",
        "t = time.time() - t0\n",
        "best_clf = GS.best_estimator_\n",
        "best_params = GS.best_params_\n",
        "best_score = GS.best_score_\n",
        "name = 'RF'\n",
        "best_clf.fit(X_dev, y_dev)\n",
        "acc_eval = accuracy_score(y_eval, best_clf.predict(X_eval))\n",
        "dict_clf[name] = {\n",
        "    'best_par': best_params,\n",
        "    'best_clf': best_clf,\n",
        "    'best_score': best_score,\n",
        "    'score_eval': acc_eval,\n",
        "    'fit_time': t,\n",
        "}"
      ],
      "execution_count": null,
      "outputs": []
    },
    {
      "cell_type": "code",
      "metadata": {
        "_cell_guid": "1dbc7007-e8f2-461a-8ff8-1d84cb8c024e",
        "_uuid": "373278dd75178ca7dd57a264f8adcc193ce0ca9f",
        "id": "QVCafi5i0ltS",
        "colab_type": "code",
        "colab": {}
      },
      "source": [
        "# 2. GradientBoosting\n",
        "paramgrid = {\n",
        "    'n_estimators':      [100, 200, 500, 750, 1000],\n",
        "    'max_features':      ['auto', 'log2'],\n",
        "    'min_samples_leaf':  list(range(2, 7)),\n",
        "    'loss' :             ['deviance', 'exponential'],\n",
        "    'learning_rate':     [0.05, 0.1, 0.2],\n",
        "}\n",
        "GS = GridSearchCV(GradientBoostingClassifier(random_state=77),\n",
        "                  paramgrid,\n",
        "                  cv=4)\n",
        "t0 = time.time()\n",
        "GS.fit(X_dev, y_dev)\n",
        "t = time.time() - t0\n",
        "best_clf = GS.best_estimator_\n",
        "best_params = GS.best_params_\n",
        "best_score = GS.best_score_\n",
        "name = 'GB'\n",
        "best_clf.fit(X_dev, y_dev)\n",
        "acc_eval = accuracy_score(y_eval, best_clf.predict(X_eval))\n",
        "dict_clf[name] = {\n",
        "    'best_par': best_params,\n",
        "    'best_clf': best_clf,\n",
        "    'best_score': best_score,\n",
        "    'score_eval': acc_eval,\n",
        "    'fit_time': t,\n",
        "}"
      ],
      "execution_count": null,
      "outputs": []
    },
    {
      "cell_type": "code",
      "metadata": {
        "_cell_guid": "d429d26d-4b7e-48e3-995f-7d9870764c16",
        "_uuid": "701fa1a4aa22373f5093ac5cd46495cf5eefec27",
        "id": "HSj4fEnF0ltU",
        "colab_type": "code",
        "colab": {}
      },
      "source": [
        "# 3. AdaBoost\n",
        "paramgrid = {\n",
        "    'n_estimators':  [100, 200, 500, 750, 1000],\n",
        "    'learning_rate': [0.05, 0.1, 0.5, 1, 2]\n",
        "}\n",
        "GS = GridSearchCV(AdaBoostClassifier(random_state=77),\n",
        "                  paramgrid,\n",
        "                  cv=4)\n",
        "t0 = time.time()\n",
        "GS.fit(X_dev, y_dev)\n",
        "t = time.time() - t0\n",
        "best_clf = GS.best_estimator_\n",
        "best_params = GS.best_params_\n",
        "best_score = GS.best_score_\n",
        "name = 'ADB'\n",
        "best_clf.fit(X_dev, y_dev)\n",
        "acc_eval = accuracy_score(y_eval, best_clf.predict(X_eval))\n",
        "dict_clf[name] = {\n",
        "    'best_par': best_params,\n",
        "    'best_clf': best_clf,\n",
        "    'best_score': best_score,\n",
        "    'score_eval': acc_eval,\n",
        "    'fit_time': t,\n",
        "}"
      ],
      "execution_count": null,
      "outputs": []
    },
    {
      "cell_type": "markdown",
      "metadata": {
        "_cell_guid": "d81bc5c1-7b51-4b85-9383-09c249d1fda3",
        "_uuid": "cdd75390b55f6b25209564156727924b9fb966fa",
        "id": "VTX9GARi0ltV",
        "colab_type": "text"
      },
      "source": [
        "Print all these informations about our classifiers after hyperparameters tuning:"
      ]
    },
    {
      "cell_type": "code",
      "metadata": {
        "_cell_guid": "8660b0f2-e807-4e9f-9509-8d4c97d87576",
        "_uuid": "5173cf32f779673014f234e52508efbee24dbf9e",
        "id": "TzcAzA2Y0ltW",
        "colab_type": "code",
        "colab": {},
        "outputId": "03ec80fe-fa69-4cea-c7f6-d42ba1d1e816"
      },
      "source": [
        "for clf in dict_clf.keys():\n",
        "    print(\"{0} classifier:\\n\\t- Best score = {1:.2%}\".format(clf, dict_clf[clf]['best_score']))\n",
        "    print(\"\\t- Score on evaluation set = {0:.2%}\".format(dict_clf[clf]['score_eval']))\n",
        "    print(\"\\t- Fitting time = {0:.1f} min\".format(round(dict_clf[clf]['fit_time']/60, 1)))\n",
        "    print(\"\\t- Best parameters:\")\n",
        "    for par in sorted(dict_clf[clf]['best_par'].keys()):\n",
        "        print(\"\\t\\t* {0}: {1}\".format(par, dict_clf[clf]['best_par'][par]))"
      ],
      "execution_count": null,
      "outputs": [
        {
          "output_type": "stream",
          "text": [
            "RF classifier:\n",
            "\t- Best score = 83.29%\n",
            "\t- Score on evaluation set = 82.68%\n",
            "\t- Fitting time = 4.2 min\n",
            "\t- Best parameters:\n",
            "\t\t* criterion: entropy\n",
            "\t\t* max_features: auto\n",
            "\t\t* min_samples_leaf: 4\n",
            "\t\t* n_estimators: 200\n",
            "GB classifier:\n",
            "\t- Best score = 83.43%\n",
            "\t- Score on evaluation set = 81.56%\n",
            "\t- Fitting time = 6.0 min\n",
            "\t- Best parameters:\n",
            "\t\t* learning_rate: 0.05\n",
            "\t\t* loss: exponential\n",
            "\t\t* max_features: log2\n",
            "\t\t* min_samples_leaf: 5\n",
            "\t\t* n_estimators: 200\n",
            "ADB classifier:\n",
            "\t- Best score = 81.32%\n",
            "\t- Score on evaluation set = 80.45%\n",
            "\t- Fitting time = 1.6 min\n",
            "\t- Best parameters:\n",
            "\t\t* learning_rate: 0.05\n",
            "\t\t* n_estimators: 750\n"
          ],
          "name": "stdout"
        }
      ]
    }
  ]
}