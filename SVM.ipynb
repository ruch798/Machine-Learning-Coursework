{
  "nbformat": 4,
  "nbformat_minor": 0,
  "metadata": {
    "colab": {
      "name": "SVM.ipynb",
      "provenance": [],
      "collapsed_sections": []
    },
    "kernelspec": {
      "name": "python3",
      "display_name": "Python 3"
    }
  },
  "cells": [
    {
      "cell_type": "code",
      "metadata": {
        "id": "YRgSX9RcKqya",
        "colab_type": "code",
        "colab": {}
      },
      "source": [
        "import pandas as pd\n",
        "import numpy as np\n",
        "import math\n",
        "import array as arr"
      ],
      "execution_count": null,
      "outputs": []
    },
    {
      "cell_type": "code",
      "metadata": {
        "id": "7udWYwWvLsLU",
        "colab_type": "code",
        "colab": {}
      },
      "source": [
        "cy=[0 for x in range(100)]\n",
        "cx=[0 for x in range(100)]\n",
        "dx=[0 for x in range(100)]\n",
        "dy=[0 for x in range(100)]\n",
        "for i in range(100):\n",
        "  cy.append (math.atan(i-20))\n",
        "  cx.append(i)\n",
        "  dy.append(math.log(pow(2.71828,i-20),10))\n",
        "  dx.append(i)"
      ],
      "execution_count": null,
      "outputs": []
    },
    {
      "cell_type": "code",
      "metadata": {
        "id": "8njY0HYXMyeb",
        "colab_type": "code",
        "colab": {
          "base_uri": "https://localhost:8080/",
          "height": 269
        },
        "outputId": "410f82de-10db-4c79-d786-9a46b545555b"
      },
      "source": [
        "import matplotlib.pyplot as plt\n",
        "plt.ylim(-20,10)\n",
        "plt.xlim(-5,50)\n",
        "plt.plot(cx,cy)\n",
        "plt.plot(dx,dy)\n",
        "plt.show()"
      ],
      "execution_count": null,
      "outputs": [
        {
          "output_type": "display_data",
          "data": {
            "image/png": "[encoded data removed]",
            "text/plain": [
              "<Figure size 432x288 with 1 Axes>"
            ]
          },
          "metadata": {
            "tags": []
          }
        }
      ]
    },
    {
      "cell_type": "code",
      "metadata": {
        "id": "8C5091LfTaV3",
        "colab_type": "code",
        "colab": {
          "base_uri": "https://localhost:8080/",
          "height": 134
        },
        "outputId": "a1063f5d-507f-43b8-a52e-13a48ca7d730"
      },
      "source": [
        "feature1 = np.column_stack([cx, cy, np.array([0.0 for i in range(len(cx))])])\n",
        "feature2 = np.column_stack([dx, dy, np.array([1.0 for i in range(len(cx))])])\n",
        "data = np.row_stack([feature1, feature2])\n",
        "data"
      ],
      "execution_count": null,
      "outputs": [
        {
          "output_type": "execute_result",
          "data": {
            "text/plain": [
              "array([[ 0.        ,  0.        ,  0.        ],\n",
              "       [ 0.        ,  0.        ,  0.        ],\n",
              "       [ 0.        ,  0.        ,  0.        ],\n",
              "       ...,\n",
              "       [97.        , 33.44065261,  1.        ],\n",
              "       [98.        , 33.8749468 ,  1.        ],\n",
              "       [99.        , 34.30924099,  1.        ]])"
            ]
          },
          "metadata": {
            "tags": []
          },
          "execution_count": 24
        }
      ]
    },
    {
      "cell_type": "code",
      "metadata": {
        "id": "GaRaDSvQUphR",
        "colab_type": "code",
        "colab": {}
      },
      "source": [
        "from sklearn.model_selection import train_test_split\n",
        "train, test= train_test_split(data,test_size=0.2)"
      ],
      "execution_count": null,
      "outputs": []
    },
    {
      "cell_type": "code",
      "metadata": {
        "id": "0Q4_eHOPVL_3",
        "colab_type": "code",
        "colab": {
          "base_uri": "https://localhost:8080/",
          "height": 1000
        },
        "outputId": "3e170ef8-77f9-438c-81bd-a6fb3bc9f5f5"
      },
      "source": [
        "print (test)"
      ],
      "execution_count": null,
      "outputs": [
        {
          "output_type": "stream",
          "text": [
            "[[ 0.          0.          1.        ]\n",
            " [ 0.          0.          0.        ]\n",
            " [ 0.          0.          0.        ]\n",
            " [ 5.         -6.51441285  1.        ]\n",
            " [72.         22.58329787  1.        ]\n",
            " [ 0.          0.          0.        ]\n",
            " [76.         24.32047463  1.        ]\n",
            " [14.         -2.60576514  1.        ]\n",
            " [ 0.          0.          0.        ]\n",
            " [ 0.          0.          1.        ]\n",
            " [80.          1.5541312   0.        ]\n",
            " [74.         23.45188625  1.        ]\n",
            " [ 0.          0.          1.        ]\n",
            " [ 0.          0.          1.        ]\n",
            " [ 0.          0.          1.        ]\n",
            " [31.          4.77723609  1.        ]\n",
            " [48.          1.53509721  0.        ]\n",
            " [ 0.          0.          0.        ]\n",
            " [57.          1.54377588  0.        ]\n",
            " [ 0.          0.          0.        ]\n",
            " [47.         11.72594312  1.        ]\n",
            " [ 0.          0.          0.        ]\n",
            " [ 0.          0.          1.        ]\n",
            " [82.         26.92623977  1.        ]\n",
            " [ 0.          0.          0.        ]\n",
            " [ 0.          0.          1.        ]\n",
            " [50.          1.53747533  0.        ]\n",
            " [32.          5.21153028  1.        ]\n",
            " [20.          0.          0.        ]\n",
            " [ 0.          0.          0.        ]\n",
            " [48.         12.16023731  1.        ]\n",
            " [ 0.          0.          1.        ]\n",
            " [91.          1.55671275  0.        ]\n",
            " [51.         13.46311988  1.        ]\n",
            " [37.          7.38300123  1.        ]\n",
            " [79.         25.6233572   1.        ]\n",
            " [ 0.          0.          0.        ]\n",
            " [ 0.         -8.6858838   1.        ]\n",
            " [ 0.          0.          0.        ]\n",
            " [ 0.          0.          0.        ]\n",
            " [ 0.          0.          1.        ]\n",
            " [ 0.          0.          1.        ]\n",
            " [ 0.          0.          0.        ]\n",
            " [ 0.          0.          0.        ]\n",
            " [ 0.          0.          0.        ]\n",
            " [90.         30.40059328  1.        ]\n",
            " [ 0.          0.          1.        ]\n",
            " [ 0.          0.          0.        ]\n",
            " [ 0.          0.          1.        ]\n",
            " [ 0.          0.          1.        ]\n",
            " [35.          1.50422816  0.        ]\n",
            " [ 0.          0.          0.        ]\n",
            " [ 0.          0.          1.        ]\n",
            " [ 0.          0.          0.        ]\n",
            " [ 0.          0.          1.        ]\n",
            " [ 0.          0.          1.        ]\n",
            " [36.          6.94870704  1.        ]\n",
            " [ 0.          0.          0.        ]\n",
            " [ 0.          0.          1.        ]\n",
            " [42.          1.52537305  0.        ]\n",
            " [ 0.          0.          1.        ]\n",
            " [ 0.          0.          0.        ]\n",
            " [90.          1.55651158  0.        ]\n",
            " [ 0.          0.          1.        ]\n",
            " [50.         13.02882569  1.        ]\n",
            " [ 0.          0.          0.        ]\n",
            " [ 0.          0.          1.        ]\n",
            " [ 0.          0.          1.        ]\n",
            " [54.         14.76600245  1.        ]\n",
            " [ 0.          0.          1.        ]\n",
            " [95.         32.57206423  1.        ]\n",
            " [ 0.          0.          1.        ]\n",
            " [ 0.          0.          0.        ]\n",
            " [ 0.          0.          1.        ]\n",
            " [40.          1.52083793  0.        ]\n",
            " [ 0.          0.          1.        ]\n",
            " [ 0.          0.          1.        ]\n",
            " [ 0.          0.          0.        ]\n",
            " [ 0.          0.          0.        ]\n",
            " [69.         21.2804153   1.        ]]\n"
          ],
          "name": "stdout"
        }
      ]
    },
    {
      "cell_type": "code",
      "metadata": {
        "id": "Of0b2z9zVR6x",
        "colab_type": "code",
        "colab": {}
      },
      "source": [
        "X_train= train.T[:2].T\n",
        "Y_train= train.T[-1].T\n",
        "X_test= train.T[:2].T\n",
        "Y_test= train.T[-1].T"
      ],
      "execution_count": null,
      "outputs": []
    },
    {
      "cell_type": "code",
      "metadata": {
        "id": "-BbXJ6RBVx93",
        "colab_type": "code",
        "colab": {
          "base_uri": "https://localhost:8080/",
          "height": 84
        },
        "outputId": "2daca10d-2ce6-47ac-91cc-b6459e460e04"
      },
      "source": [
        "from sklearn import svm\n",
        "clf= svm.SVC(kernel = \"sigmoid\",gamma = \"auto\")\n",
        "clf.fit(X_train,Y_train)"
      ],
      "execution_count": null,
      "outputs": [
        {
          "output_type": "execute_result",
          "data": {
            "text/plain": [
              "SVC(C=1.0, break_ties=False, cache_size=200, class_weight=None, coef0=0.0,\n",
              "    decision_function_shape='ovr', degree=3, gamma='auto', kernel='sigmoid',\n",
              "    max_iter=-1, probability=False, random_state=None, shrinking=True,\n",
              "    tol=0.001, verbose=False)"
            ]
          },
          "metadata": {
            "tags": []
          },
          "execution_count": 28
        }
      ]
    },
    {
      "cell_type": "code",
      "metadata": {
        "id": "ZGx9-cWeWSuL",
        "colab_type": "code",
        "colab": {
          "base_uri": "https://localhost:8080/",
          "height": 336
        },
        "outputId": "5cd2d5ec-488c-4370-d85e-81191399eb7c"
      },
      "source": [
        "clf.predict(X_test)"
      ],
      "execution_count": null,
      "outputs": [
        {
          "output_type": "execute_result",
          "data": {
            "text/plain": [
              "array([0., 0., 0., 1., 0., 0., 1., 1., 1., 0., 0., 0., 0., 0., 1., 0., 0.,\n",
              "       0., 0., 1., 1., 0., 0., 0., 1., 0., 0., 0., 0., 0., 0., 0., 0., 0.,\n",
              "       0., 0., 0., 0., 0., 0., 0., 0., 0., 0., 1., 0., 1., 0., 0., 0., 0.,\n",
              "       1., 1., 0., 1., 0., 0., 0., 0., 0., 0., 0., 1., 0., 0., 0., 0., 0.,\n",
              "       1., 1., 0., 0., 1., 1., 0., 1., 0., 0., 0., 0., 0., 0., 0., 0., 0.,\n",
              "       0., 0., 1., 0., 0., 0., 1., 1., 0., 0., 0., 1., 0., 1., 0., 1., 0.,\n",
              "       0., 0., 0., 1., 1., 0., 0., 0., 1., 0., 1., 0., 0., 0., 0., 0., 0.,\n",
              "       0., 1., 1., 0., 0., 1., 0., 0., 0., 0., 1., 0., 0., 0., 1., 1., 0.,\n",
              "       0., 0., 0., 1., 0., 0., 0., 0., 1., 0., 0., 0., 0., 0., 0., 0., 0.,\n",
              "       0., 0., 1., 0., 0., 0., 0., 0., 0., 0., 0., 0., 0., 0., 0., 0., 0.,\n",
              "       1., 0., 0., 0., 0., 0., 0., 0., 0., 0., 0., 0., 1., 0., 0., 0., 0.,\n",
              "       0., 0., 0., 1., 1., 1., 0., 0., 1., 1., 0., 0., 1., 0., 0., 1., 0.,\n",
              "       0., 0., 0., 0., 0., 0., 1., 0., 1., 0., 0., 0., 0., 0., 0., 0., 0.,\n",
              "       1., 1., 0., 0., 1., 1., 0., 0., 1., 1., 0., 0., 1., 0., 0., 0., 0.,\n",
              "       0., 0., 1., 0., 0., 1., 1., 0., 1., 0., 0., 0., 1., 0., 0., 1., 1.,\n",
              "       0., 0., 0., 0., 1., 0., 1., 0., 0., 0., 0., 0., 0., 1., 0., 0., 0.,\n",
              "       0., 0., 0., 1., 0., 1., 1., 0., 0., 0., 0., 0., 1., 1., 0., 0., 0.,\n",
              "       1., 0., 1., 0., 0., 0., 0., 0., 0., 1., 0., 1., 0., 0., 0., 0., 0.,\n",
              "       0., 0., 0., 0., 0., 0., 0., 0., 1., 0., 1., 0., 0., 1.])"
            ]
          },
          "metadata": {
            "tags": []
          },
          "execution_count": 29
        }
      ]
    },
    {
      "cell_type": "code",
      "metadata": {
        "id": "ZNoS4UFAWo_c",
        "colab_type": "code",
        "colab": {
          "base_uri": "https://localhost:8080/",
          "height": 67
        },
        "outputId": "e6b0e4df-408e-415a-88cc-b1b45961cee2"
      },
      "source": [
        "from sklearn import metrics\n",
        "Y_pred=clf.predict(X_test)\n",
        "score1=metrics.accuracy_score(Y_test,Y_pred)\n",
        "print(\"accuracy:  %0.3f\" %score1)\n",
        "#making the confusion matrix to see how many incorrect values are there\n",
        "from sklearn.metrics import confusion_matrix\n",
        "cm1=confusion_matrix(Y_test,Y_pred)\n",
        "print(cm1)"
      ],
      "execution_count": null,
      "outputs": [
        {
          "output_type": "stream",
          "text": [
            "accuracy:  0.319\n",
            "[[ 95  71]\n",
            " [147   7]]\n"
          ],
          "name": "stdout"
        }
      ]
    },
    {
      "cell_type": "code",
      "metadata": {
        "id": "GYx7AffwXJNX",
        "colab_type": "code",
        "colab": {
          "base_uri": "https://localhost:8080/",
          "height": 312
        },
        "outputId": "8582cfd9-13c6-4072-cce7-3081875b5af0"
      },
      "source": [
        "import seaborn as sns\n",
        "ax= plt.subplot()\n",
        "sns.heatmap(cm1, annot=True, ax = ax, fmt='g') #annot=True to annotate cells\n",
        "\n",
        "# labels, title and ticks\n",
        "ax.set_xlabel('Predicted labels')\n",
        "ax.set_ylabel('True labels')\n",
        "ax.set_title('Confusion Matrix')"
      ],
      "execution_count": null,
      "outputs": [
        {
          "output_type": "execute_result",
          "data": {
            "text/plain": [
              "Text(0.5, 1.0, 'Confusion Matrix')"
            ]
          },
          "metadata": {
            "tags": []
          },
          "execution_count": 31
        },
        {
          "output_type": "display_data",
          "data": {
            "image/png": "[encoded data removed]",
            "text/plain": [
              "<Figure size 432x288 with 2 Axes>"
            ]
          },
          "metadata": {
            "tags": []
          }
        }
      ]
    },
    {
      "cell_type": "code",
      "metadata": {
        "id": "15lPbtJODJ2Z",
        "colab_type": "code",
        "colab": {
          "base_uri": "https://localhost:8080/",
          "height": 84
        },
        "outputId": "cc1da626-417d-4ec6-afdd-3ea18adc0ad8"
      },
      "source": [
        "clf= svm.SVC(kernel = \"linear\",gamma = \"auto\")\n",
        "clf.fit(X_train,Y_train)"
      ],
      "execution_count": null,
      "outputs": [
        {
          "output_type": "execute_result",
          "data": {
            "text/plain": [
              "SVC(C=1.0, break_ties=False, cache_size=200, class_weight=None, coef0=0.0,\n",
              "    decision_function_shape='ovr', degree=3, gamma='auto', kernel='linear',\n",
              "    max_iter=-1, probability=False, random_state=None, shrinking=True,\n",
              "    tol=0.001, verbose=False)"
            ]
          },
          "metadata": {
            "tags": []
          },
          "execution_count": 32
        }
      ]
    },
    {
      "cell_type": "code",
      "metadata": {
        "id": "TTU7OfDhDKG_",
        "colab_type": "code",
        "colab": {
          "base_uri": "https://localhost:8080/",
          "height": 67
        },
        "outputId": "35652e97-aeb2-4865-9035-686e511ab52f"
      },
      "source": [
        "Y_pred=clf.predict(X_test)\n",
        "score1=metrics.accuracy_score(Y_test,Y_pred)\n",
        "print(\"accuracy:  %0.3f\" %score1)\n",
        "#making the confusion matrix to see how many incorrect values are there\n",
        "cm1=confusion_matrix(Y_test,Y_pred)\n",
        "print(cm1)"
      ],
      "execution_count": null,
      "outputs": [
        {
          "output_type": "stream",
          "text": [
            "accuracy:  0.684\n",
            "[[166   0]\n",
            " [101  53]]\n"
          ],
          "name": "stdout"
        }
      ]
    },
    {
      "cell_type": "code",
      "metadata": {
        "id": "8XqEX8y9DUJv",
        "colab_type": "code",
        "colab": {
          "base_uri": "https://localhost:8080/",
          "height": 312
        },
        "outputId": "55ee85b6-1429-424b-c4a2-87a7a4dfcb88"
      },
      "source": [
        "ax= plt.subplot()\n",
        "sns.heatmap(cm1, annot=True, ax = ax, fmt='g') #annot=True to annotate cells\n",
        "\n",
        "# labels, title and ticks\n",
        "ax.set_xlabel('Predicted labels')\n",
        "ax.set_ylabel('True labels')\n",
        "ax.set_title('Confusion Matrix')"
      ],
      "execution_count": null,
      "outputs": [
        {
          "output_type": "execute_result",
          "data": {
            "text/plain": [
              "Text(0.5, 1.0, 'Confusion Matrix')"
            ]
          },
          "metadata": {
            "tags": []
          },
          "execution_count": 34
        },
        {
          "output_type": "display_data",
          "data": {
            "image/png": "[encoded data removed]",
            "text/plain": [
              "<Figure size 432x288 with 2 Axes>"
            ]
          },
          "metadata": {
            "tags": []
          }
        }
      ]
    },
    {
      "cell_type": "code",
      "metadata": {
        "id": "QWV0zTE1DgRv",
        "colab_type": "code",
        "colab": {
          "base_uri": "https://localhost:8080/",
          "height": 84
        },
        "outputId": "6c8eee73-f710-4f1b-b02c-9e3f94678557"
      },
      "source": [
        "clf= svm.SVC(kernel = \"rbf\",gamma = \"auto\")\n",
        "clf.fit(X_train,Y_train)"
      ],
      "execution_count": null,
      "outputs": [
        {
          "output_type": "execute_result",
          "data": {
            "text/plain": [
              "SVC(C=1.0, break_ties=False, cache_size=200, class_weight=None, coef0=0.0,\n",
              "    decision_function_shape='ovr', degree=3, gamma='auto', kernel='rbf',\n",
              "    max_iter=-1, probability=False, random_state=None, shrinking=True,\n",
              "    tol=0.001, verbose=False)"
            ]
          },
          "metadata": {
            "tags": []
          },
          "execution_count": 35
        }
      ]
    },
    {
      "cell_type": "code",
      "metadata": {
        "id": "rhMYVkj7DgWC",
        "colab_type": "code",
        "colab": {
          "base_uri": "https://localhost:8080/",
          "height": 67
        },
        "outputId": "9bff9f6d-4b27-4e79-edef-23c98de0c496"
      },
      "source": [
        "Y_pred=clf.predict(X_test)\n",
        "score1=metrics.accuracy_score(Y_test,Y_pred)\n",
        "print(\"accuracy:  %0.3f\" %score1)\n",
        "#making the confusion matrix to see how many incorrect values are there\n",
        "cm1=confusion_matrix(Y_test,Y_pred)\n",
        "print(cm1)"
      ],
      "execution_count": null,
      "outputs": [
        {
          "output_type": "stream",
          "text": [
            "accuracy:  0.753\n",
            "[[164   2]\n",
            " [ 77  77]]\n"
          ],
          "name": "stdout"
        }
      ]
    },
    {
      "cell_type": "code",
      "metadata": {
        "id": "xljG3PkZDgZj",
        "colab_type": "code",
        "colab": {
          "base_uri": "https://localhost:8080/",
          "height": 312
        },
        "outputId": "a5c88bee-c6e2-4f0a-a186-43d191179d7f"
      },
      "source": [
        "ax= plt.subplot()\n",
        "sns.heatmap(cm1, annot=True, ax = ax, fmt='g') #annot=True to annotate cells\n",
        "\n",
        "# labels, title and ticks\n",
        "ax.set_xlabel('Predicted labels')\n",
        "ax.set_ylabel('True labels')\n",
        "ax.set_title('Confusion Matrix')"
      ],
      "execution_count": null,
      "outputs": [
        {
          "output_type": "execute_result",
          "data": {
            "text/plain": [
              "Text(0.5, 1.0, 'Confusion Matrix')"
            ]
          },
          "metadata": {
            "tags": []
          },
          "execution_count": 37
        },
        {
          "output_type": "display_data",
          "data": {
            "image/png": "[encoded data removed]",
            "text/plain": [
              "<Figure size 432x288 with 2 Axes>"
            ]
          },
          "metadata": {
            "tags": []
          }
        }
      ]
    }
  ]
}