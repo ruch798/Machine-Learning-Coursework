{
  "nbformat": 4,
  "nbformat_minor": 0,
  "metadata": {
    "kernelspec": {
      "display_name": "Python 3",
      "language": "python",
      "name": "python3"
    },
    "language_info": {
      "codemirror_mode": {
        "name": "ipython",
        "version": 3
      },
      "file_extension": ".py",
      "mimetype": "text/x-python",
      "name": "python",
      "nbconvert_exporter": "python",
      "pygments_lexer": "ipython3",
      "version": "3.7.6"
    },
    "colab": {
      "name": "PCA.ipynb",
      "provenance": []
    }
  },
  "cells": [
    {
      "cell_type": "markdown",
      "metadata": {
        "id": "otyrwK0blnxI",
        "colab_type": "text"
      },
      "source": [
        "# Principal Component Analysis"
      ]
    },
    {
      "cell_type": "markdown",
      "metadata": {
        "id": "gj-80JnClnxK",
        "colab_type": "text"
      },
      "source": [
        "# 1. PCA on Iris dataset\n",
        "PCA implementation using covariance matrix method"
      ]
    },
    {
      "cell_type": "code",
      "metadata": {
        "id": "MuD6hH5HlnxL",
        "colab_type": "code",
        "colab": {
          "base_uri": "https://localhost:8080/",
          "height": 212
        },
        "outputId": "ee0d6627-27f4-4ad8-9103-a28d9994a643"
      },
      "source": [
        "import pandas as pd\n",
        "import numpy as np\n",
        "from sklearn import datasets\n",
        "iris = datasets.load_iris()\n",
        "print(iris['target_names'])\n",
        "df = pd.DataFrame(data= np.c_[iris['data'], iris['target']],\n",
        "                     columns= iris['feature_names'] + ['target'])\n",
        "df.tail()"
      ],
      "execution_count": null,
      "outputs": [
        {
          "output_type": "stream",
          "text": [
            "['setosa' 'versicolor' 'virginica']\n"
          ],
          "name": "stdout"
        },
        {
          "output_type": "execute_result",
          "data": {
            "text/html": [
              "<div>\n",
              "<style scoped>\n",
              "    .dataframe tbody tr th:only-of-type {\n",
              "        vertical-align: middle;\n",
              "    }\n",
              "\n",
              "    .dataframe tbody tr th {\n",
              "        vertical-align: top;\n",
              "    }\n",
              "\n",
              "    .dataframe thead th {\n",
              "        text-align: right;\n",
              "    }\n",
              "</style>\n",
              "<table border=\"1\" class=\"dataframe\">\n",
              "  <thead>\n",
              "    <tr style=\"text-align: right;\">\n",
              "      <th></th>\n",
              "      <th>sepal length (cm)</th>\n",
              "      <th>sepal width (cm)</th>\n",
              "      <th>petal length (cm)</th>\n",
              "      <th>petal width (cm)</th>\n",
              "      <th>target</th>\n",
              "    </tr>\n",
              "  </thead>\n",
              "  <tbody>\n",
              "    <tr>\n",
              "      <th>145</th>\n",
              "      <td>6.7</td>\n",
              "      <td>3.0</td>\n",
              "      <td>5.2</td>\n",
              "      <td>2.3</td>\n",
              "      <td>2.0</td>\n",
              "    </tr>\n",
              "    <tr>\n",
              "      <th>146</th>\n",
              "      <td>6.3</td>\n",
              "      <td>2.5</td>\n",
              "      <td>5.0</td>\n",
              "      <td>1.9</td>\n",
              "      <td>2.0</td>\n",
              "    </tr>\n",
              "    <tr>\n",
              "      <th>147</th>\n",
              "      <td>6.5</td>\n",
              "      <td>3.0</td>\n",
              "      <td>5.2</td>\n",
              "      <td>2.0</td>\n",
              "      <td>2.0</td>\n",
              "    </tr>\n",
              "    <tr>\n",
              "      <th>148</th>\n",
              "      <td>6.2</td>\n",
              "      <td>3.4</td>\n",
              "      <td>5.4</td>\n",
              "      <td>2.3</td>\n",
              "      <td>2.0</td>\n",
              "    </tr>\n",
              "    <tr>\n",
              "      <th>149</th>\n",
              "      <td>5.9</td>\n",
              "      <td>3.0</td>\n",
              "      <td>5.1</td>\n",
              "      <td>1.8</td>\n",
              "      <td>2.0</td>\n",
              "    </tr>\n",
              "  </tbody>\n",
              "</table>\n",
              "</div>"
            ],
            "text/plain": [
              "     sepal length (cm)  sepal width (cm)  ...  petal width (cm)  target\n",
              "145                6.7               3.0  ...               2.3     2.0\n",
              "146                6.3               2.5  ...               1.9     2.0\n",
              "147                6.5               3.0  ...               2.0     2.0\n",
              "148                6.2               3.4  ...               2.3     2.0\n",
              "149                5.9               3.0  ...               1.8     2.0\n",
              "\n",
              "[5 rows x 5 columns]"
            ]
          },
          "metadata": {
            "tags": []
          },
          "execution_count": 1
        }
      ]
    },
    {
      "cell_type": "code",
      "metadata": {
        "id": "ffnIqncOlnxQ",
        "colab_type": "code",
        "colab": {}
      },
      "source": [
        "# split data table into data X and class labels y\n",
        "\n",
        "X = df.iloc[:,0:4].values\n",
        "y = df.iloc[:,4].values"
      ],
      "execution_count": null,
      "outputs": []
    },
    {
      "cell_type": "code",
      "metadata": {
        "id": "cWas1RdClnxT",
        "colab_type": "code",
        "colab": {
          "base_uri": "https://localhost:8080/",
          "height": 279
        },
        "outputId": "e8cd897e-a2f1-4adf-c408-e0803f2ee417"
      },
      "source": [
        "import matplotlib.pyplot as plt\n",
        "\n",
        "fig, axes = plt.subplots(nrows= 2, ncols=2)\n",
        "colors= ['blue', 'red', 'green']\n",
        "\n",
        "for i, ax in enumerate(axes.flat):\n",
        "    for label, color in zip(range(len(iris['target_names'])), colors):\n",
        "        ax.hist(iris.data[iris.target==label, i], label=             \n",
        "                            iris.target_names[label], color=color)\n",
        "        ax.set_xlabel(iris.feature_names[i])  \n",
        "        ax.legend(loc='upper right')\n",
        "\n",
        "plt.show()"
      ],
      "execution_count": null,
      "outputs": [
        {
          "output_type": "display_data",
          "data": {
            "image/png": "[encoded data removed]",
            "text/plain": [
              "<Figure size 432x288 with 4 Axes>"
            ]
          },
          "metadata": {
            "tags": []
          }
        }
      ]
    },
    {
      "cell_type": "code",
      "metadata": {
        "id": "iuOdzZ32lnxW",
        "colab_type": "code",
        "colab": {}
      },
      "source": [
        "from sklearn.preprocessing import StandardScaler\n",
        "X_std = StandardScaler().fit_transform(X)"
      ],
      "execution_count": null,
      "outputs": []
    },
    {
      "cell_type": "code",
      "metadata": {
        "id": "LIe1qJPQlnxZ",
        "colab_type": "code",
        "colab": {
          "base_uri": "https://localhost:8080/",
          "height": 101
        },
        "outputId": "018e95f9-4443-4bcb-96dd-bf2cd6aedcf4"
      },
      "source": [
        "import numpy as np\n",
        "mean_vec = np.mean(X_std, axis=0)\n",
        "cov_mat = (X_std - mean_vec).T.dot((X_std - mean_vec)) / (X_std.shape[0]-1)\n",
        "print('Covariance matrix \\n%s' %cov_mat)"
      ],
      "execution_count": null,
      "outputs": [
        {
          "output_type": "stream",
          "text": [
            "Covariance matrix \n",
            "[[ 1.00671141 -0.11835884  0.87760447  0.82343066]\n",
            " [-0.11835884  1.00671141 -0.43131554 -0.36858315]\n",
            " [ 0.87760447 -0.43131554  1.00671141  0.96932762]\n",
            " [ 0.82343066 -0.36858315  0.96932762  1.00671141]]\n"
          ],
          "name": "stdout"
        }
      ]
    },
    {
      "cell_type": "code",
      "metadata": {
        "id": "MxfLg91qlnxb",
        "colab_type": "code",
        "colab": {
          "base_uri": "https://localhost:8080/",
          "height": 101
        },
        "outputId": "44d69b53-e090-48c0-ff13-6af9ce345dd2"
      },
      "source": [
        "print('NumPy covariance matrix: \\n%s' %np.cov(X_std.T))"
      ],
      "execution_count": null,
      "outputs": [
        {
          "output_type": "stream",
          "text": [
            "NumPy covariance matrix: \n",
            "[[ 1.00671141 -0.11835884  0.87760447  0.82343066]\n",
            " [-0.11835884  1.00671141 -0.43131554 -0.36858315]\n",
            " [ 0.87760447 -0.43131554  1.00671141  0.96932762]\n",
            " [ 0.82343066 -0.36858315  0.96932762  1.00671141]]\n"
          ],
          "name": "stdout"
        }
      ]
    },
    {
      "cell_type": "code",
      "metadata": {
        "id": "cRXzfaRRlnxg",
        "colab_type": "code",
        "colab": {
          "base_uri": "https://localhost:8080/",
          "height": 151
        },
        "outputId": "38816442-d175-4c0e-d574-024f0b253b3f"
      },
      "source": [
        "cov_mat = np.cov(X_std.T)\n",
        "\n",
        "eig_vals, eig_vecs = np.linalg.eig(cov_mat)\n",
        "\n",
        "print('Eigenvectors \\n%s' %eig_vecs)\n",
        "print('\\nEigenvalues \\n%s' %eig_vals)"
      ],
      "execution_count": null,
      "outputs": [
        {
          "output_type": "stream",
          "text": [
            "Eigenvectors \n",
            "[[ 0.52106591 -0.37741762 -0.71956635  0.26128628]\n",
            " [-0.26934744 -0.92329566  0.24438178 -0.12350962]\n",
            " [ 0.5804131  -0.02449161  0.14212637 -0.80144925]\n",
            " [ 0.56485654 -0.06694199  0.63427274  0.52359713]]\n",
            "\n",
            "Eigenvalues \n",
            "[2.93808505 0.9201649  0.14774182 0.02085386]\n"
          ],
          "name": "stdout"
        }
      ]
    },
    {
      "cell_type": "code",
      "metadata": {
        "id": "Ml9iSWeulnxj",
        "colab_type": "code",
        "colab": {}
      },
      "source": [
        "for ev in eig_vecs:\n",
        "    np.testing.assert_array_almost_equal(1.0, np.linalg.norm(ev))\n"
      ],
      "execution_count": null,
      "outputs": []
    },
    {
      "cell_type": "code",
      "metadata": {
        "id": "PtzWhTjnlnxm",
        "colab_type": "code",
        "colab": {
          "base_uri": "https://localhost:8080/",
          "height": 101
        },
        "outputId": "37848623-1dc4-4201-c384-73c53587d1fe"
      },
      "source": [
        "# Make a list of (eigenvalue, eigenvector) tuples\n",
        "eig_pairs = [(np.abs(eig_vals[i]), eig_vecs[:,i]) for i in range(len(eig_vals))]\n",
        "\n",
        "# Sort the (eigenvalue, eigenvector) tuples from high to low\n",
        "eig_pairs.sort()\n",
        "eig_pairs.reverse()\n",
        "\n",
        "# Visually confirm that the list is correctly sorted by decreasing eigenvalues\n",
        "print('Eigenvalues in descending order:')\n",
        "for i in eig_pairs:\n",
        "    print(i[0])"
      ],
      "execution_count": null,
      "outputs": [
        {
          "output_type": "stream",
          "text": [
            "Eigenvalues in descending order:\n",
            "2.938085050199995\n",
            "0.9201649041624864\n",
            "0.1477418210449475\n",
            "0.020853862176462696\n"
          ],
          "name": "stdout"
        }
      ]
    },
    {
      "cell_type": "code",
      "metadata": {
        "id": "NSNTwyGxlnxq",
        "colab_type": "code",
        "colab": {
          "base_uri": "https://localhost:8080/",
          "height": 265
        },
        "outputId": "a159624f-159f-42ef-da97-073f94f7ad29"
      },
      "source": [
        "tot = sum(eig_vals)\n",
        "var_exp = [(i / tot)*100 for i in sorted(eig_vals, reverse=True)]\n",
        "cum_var_exp = np.cumsum(var_exp)\n",
        "\n",
        "plt.bar([i for i in range(len(var_exp))], var_exp)\n",
        "plt.xticks(np.arange(4), ['PC'+str(i) for i in range(4)])\n",
        "plt.ylabel('Explained variance in percentage')\n",
        "plt.show()"
      ],
      "execution_count": null,
      "outputs": [
        {
          "output_type": "display_data",
          "data": {
            "image/png": "[encoded data removed]",
            "text/plain": [
              "<Figure size 432x288 with 1 Axes>"
            ]
          },
          "metadata": {
            "tags": []
          }
        }
      ]
    },
    {
      "cell_type": "code",
      "metadata": {
        "id": "9XA-gT6Jlnxs",
        "colab_type": "code",
        "colab": {
          "base_uri": "https://localhost:8080/",
          "height": 101
        },
        "outputId": "5b7e2563-4bcf-4976-c916-b6f7f656af36"
      },
      "source": [
        "matrix_w = np.hstack((eig_pairs[2][1].reshape(4,1), \n",
        "                      eig_pairs[3][1].reshape(4,1)))\n",
        "\n",
        "print('Matrix W:\\n', matrix_w)"
      ],
      "execution_count": null,
      "outputs": [
        {
          "output_type": "stream",
          "text": [
            "Matrix W:\n",
            " [[-0.71956635  0.26128628]\n",
            " [ 0.24438178 -0.12350962]\n",
            " [ 0.14212637 -0.80144925]\n",
            " [ 0.63427274  0.52359713]]\n"
          ],
          "name": "stdout"
        }
      ]
    },
    {
      "cell_type": "code",
      "metadata": {
        "id": "sCWvmhR0lnxv",
        "colab_type": "code",
        "colab": {}
      },
      "source": [
        "Y = X_std.dot(matrix_w)"
      ],
      "execution_count": null,
      "outputs": []
    },
    {
      "cell_type": "code",
      "metadata": {
        "id": "K0Q6cOWKlnxx",
        "colab_type": "code",
        "colab": {
          "base_uri": "https://localhost:8080/",
          "height": 166
        },
        "outputId": "b49c5ca5-a9c7-4dc5-e250-6da2e6d7fc41"
      },
      "source": [
        "new_df = pd.DataFrame(data=matrix_w, columns = ['PC0', 'PC1'])\n",
        "new_df.head()"
      ],
      "execution_count": null,
      "outputs": [
        {
          "output_type": "execute_result",
          "data": {
            "text/html": [
              "<div>\n",
              "<style scoped>\n",
              "    .dataframe tbody tr th:only-of-type {\n",
              "        vertical-align: middle;\n",
              "    }\n",
              "\n",
              "    .dataframe tbody tr th {\n",
              "        vertical-align: top;\n",
              "    }\n",
              "\n",
              "    .dataframe thead th {\n",
              "        text-align: right;\n",
              "    }\n",
              "</style>\n",
              "<table border=\"1\" class=\"dataframe\">\n",
              "  <thead>\n",
              "    <tr style=\"text-align: right;\">\n",
              "      <th></th>\n",
              "      <th>PC0</th>\n",
              "      <th>PC1</th>\n",
              "    </tr>\n",
              "  </thead>\n",
              "  <tbody>\n",
              "    <tr>\n",
              "      <th>0</th>\n",
              "      <td>-0.719566</td>\n",
              "      <td>0.261286</td>\n",
              "    </tr>\n",
              "    <tr>\n",
              "      <th>1</th>\n",
              "      <td>0.244382</td>\n",
              "      <td>-0.123510</td>\n",
              "    </tr>\n",
              "    <tr>\n",
              "      <th>2</th>\n",
              "      <td>0.142126</td>\n",
              "      <td>-0.801449</td>\n",
              "    </tr>\n",
              "    <tr>\n",
              "      <th>3</th>\n",
              "      <td>0.634273</td>\n",
              "      <td>0.523597</td>\n",
              "    </tr>\n",
              "  </tbody>\n",
              "</table>\n",
              "</div>"
            ],
            "text/plain": [
              "        PC0       PC1\n",
              "0 -0.719566  0.261286\n",
              "1  0.244382 -0.123510\n",
              "2  0.142126 -0.801449\n",
              "3  0.634273  0.523597"
            ]
          },
          "metadata": {
            "tags": []
          },
          "execution_count": 13
        }
      ]
    },
    {
      "cell_type": "markdown",
      "metadata": {
        "id": "tUzDVqiylnxz",
        "colab_type": "text"
      },
      "source": [
        "## Now using sklearn's PCA"
      ]
    },
    {
      "cell_type": "code",
      "metadata": {
        "id": "YnazJhaFlnx0",
        "colab_type": "code",
        "colab": {
          "base_uri": "https://localhost:8080/",
          "height": 195
        },
        "outputId": "5df9b571-eda1-4e59-9357-fbc7955b6442"
      },
      "source": [
        "from sklearn.decomposition import PCA\n",
        "pca = PCA(n_components=2)\n",
        "pcs = pca.fit_transform(X_std)\n",
        "new_df = pd.DataFrame(data = pcs, columns=['PC'+str(i) for i in range(2)])\n",
        "new_df.head()"
      ],
      "execution_count": null,
      "outputs": [
        {
          "output_type": "execute_result",
          "data": {
            "text/html": [
              "<div>\n",
              "<style scoped>\n",
              "    .dataframe tbody tr th:only-of-type {\n",
              "        vertical-align: middle;\n",
              "    }\n",
              "\n",
              "    .dataframe tbody tr th {\n",
              "        vertical-align: top;\n",
              "    }\n",
              "\n",
              "    .dataframe thead th {\n",
              "        text-align: right;\n",
              "    }\n",
              "</style>\n",
              "<table border=\"1\" class=\"dataframe\">\n",
              "  <thead>\n",
              "    <tr style=\"text-align: right;\">\n",
              "      <th></th>\n",
              "      <th>PC0</th>\n",
              "      <th>PC1</th>\n",
              "    </tr>\n",
              "  </thead>\n",
              "  <tbody>\n",
              "    <tr>\n",
              "      <th>0</th>\n",
              "      <td>-2.264703</td>\n",
              "      <td>0.480027</td>\n",
              "    </tr>\n",
              "    <tr>\n",
              "      <th>1</th>\n",
              "      <td>-2.080961</td>\n",
              "      <td>-0.674134</td>\n",
              "    </tr>\n",
              "    <tr>\n",
              "      <th>2</th>\n",
              "      <td>-2.364229</td>\n",
              "      <td>-0.341908</td>\n",
              "    </tr>\n",
              "    <tr>\n",
              "      <th>3</th>\n",
              "      <td>-2.299384</td>\n",
              "      <td>-0.597395</td>\n",
              "    </tr>\n",
              "    <tr>\n",
              "      <th>4</th>\n",
              "      <td>-2.389842</td>\n",
              "      <td>0.646835</td>\n",
              "    </tr>\n",
              "  </tbody>\n",
              "</table>\n",
              "</div>"
            ],
            "text/plain": [
              "        PC0       PC1\n",
              "0 -2.264703  0.480027\n",
              "1 -2.080961 -0.674134\n",
              "2 -2.364229 -0.341908\n",
              "3 -2.299384 -0.597395\n",
              "4 -2.389842  0.646835"
            ]
          },
          "metadata": {
            "tags": []
          },
          "execution_count": 14
        }
      ]
    },
    {
      "cell_type": "markdown",
      "metadata": {
        "id": "S1Ir8oS0lnx4",
        "colab_type": "text"
      },
      "source": [
        "# 2. PCA on student data\n",
        "PCA implementation using correlation matrix"
      ]
    },
    {
      "cell_type": "code",
      "metadata": {
        "id": "wc5XRDiDlnx5",
        "colab_type": "code",
        "colab": {
          "base_uri": "https://localhost:8080/",
          "height": 195
        },
        "outputId": "25ca66a8-033b-4d1d-953f-ecc22439dabc"
      },
      "source": [
        "df = pd.read_csv('dataset.csv')\n",
        "df.head()"
      ],
      "execution_count": null,
      "outputs": [
        {
          "output_type": "execute_result",
          "data": {
            "text/html": [
              "<div>\n",
              "<style scoped>\n",
              "    .dataframe tbody tr th:only-of-type {\n",
              "        vertical-align: middle;\n",
              "    }\n",
              "\n",
              "    .dataframe tbody tr th {\n",
              "        vertical-align: top;\n",
              "    }\n",
              "\n",
              "    .dataframe thead th {\n",
              "        text-align: right;\n",
              "    }\n",
              "</style>\n",
              "<table border=\"1\" class=\"dataframe\">\n",
              "  <thead>\n",
              "    <tr style=\"text-align: right;\">\n",
              "      <th></th>\n",
              "      <th>sem1</th>\n",
              "      <th>sem2</th>\n",
              "      <th>sem3</th>\n",
              "      <th>sem4</th>\n",
              "      <th>sem5</th>\n",
              "      <th>sem6</th>\n",
              "      <th>sem7</th>\n",
              "      <th>Travel</th>\n",
              "      <th>Hobby</th>\n",
              "      <th>Study</th>\n",
              "      <th>Room</th>\n",
              "      <th>comp_exam</th>\n",
              "      <th>Higher_studies</th>\n",
              "      <th>placement</th>\n",
              "      <th>extra_curr</th>\n",
              "      <th>CET</th>\n",
              "    </tr>\n",
              "  </thead>\n",
              "  <tbody>\n",
              "    <tr>\n",
              "      <th>0</th>\n",
              "      <td>9.54</td>\n",
              "      <td>9.58</td>\n",
              "      <td>9.87</td>\n",
              "      <td>10.00</td>\n",
              "      <td>9.00</td>\n",
              "      <td>9.09</td>\n",
              "      <td>9.33</td>\n",
              "      <td>0</td>\n",
              "      <td>0</td>\n",
              "      <td>2</td>\n",
              "      <td>1</td>\n",
              "      <td>0</td>\n",
              "      <td>0</td>\n",
              "      <td>0</td>\n",
              "      <td>0</td>\n",
              "      <td>109</td>\n",
              "    </tr>\n",
              "    <tr>\n",
              "      <th>1</th>\n",
              "      <td>9.04</td>\n",
              "      <td>9.15</td>\n",
              "      <td>9.57</td>\n",
              "      <td>9.86</td>\n",
              "      <td>8.95</td>\n",
              "      <td>9.09</td>\n",
              "      <td>9.38</td>\n",
              "      <td>1</td>\n",
              "      <td>1</td>\n",
              "      <td>1</td>\n",
              "      <td>1</td>\n",
              "      <td>1</td>\n",
              "      <td>0</td>\n",
              "      <td>0</td>\n",
              "      <td>1</td>\n",
              "      <td>125</td>\n",
              "    </tr>\n",
              "    <tr>\n",
              "      <th>2</th>\n",
              "      <td>7.00</td>\n",
              "      <td>8.00</td>\n",
              "      <td>9.35</td>\n",
              "      <td>9.71</td>\n",
              "      <td>9.00</td>\n",
              "      <td>8.91</td>\n",
              "      <td>9.21</td>\n",
              "      <td>3</td>\n",
              "      <td>1</td>\n",
              "      <td>4</td>\n",
              "      <td>0</td>\n",
              "      <td>1</td>\n",
              "      <td>0</td>\n",
              "      <td>1</td>\n",
              "      <td>1</td>\n",
              "      <td>180</td>\n",
              "    </tr>\n",
              "    <tr>\n",
              "      <th>3</th>\n",
              "      <td>8.69</td>\n",
              "      <td>9.23</td>\n",
              "      <td>9.61</td>\n",
              "      <td>9.71</td>\n",
              "      <td>8.91</td>\n",
              "      <td>9.09</td>\n",
              "      <td>9.38</td>\n",
              "      <td>2</td>\n",
              "      <td>1</td>\n",
              "      <td>4</td>\n",
              "      <td>1</td>\n",
              "      <td>0</td>\n",
              "      <td>1</td>\n",
              "      <td>0</td>\n",
              "      <td>1</td>\n",
              "      <td>179</td>\n",
              "    </tr>\n",
              "    <tr>\n",
              "      <th>4</th>\n",
              "      <td>9.00</td>\n",
              "      <td>9.50</td>\n",
              "      <td>9.48</td>\n",
              "      <td>9.67</td>\n",
              "      <td>9.00</td>\n",
              "      <td>9.13</td>\n",
              "      <td>8.83</td>\n",
              "      <td>3</td>\n",
              "      <td>0</td>\n",
              "      <td>3</td>\n",
              "      <td>1</td>\n",
              "      <td>1</td>\n",
              "      <td>0</td>\n",
              "      <td>1</td>\n",
              "      <td>1</td>\n",
              "      <td>172</td>\n",
              "    </tr>\n",
              "  </tbody>\n",
              "</table>\n",
              "</div>"
            ],
            "text/plain": [
              "   sem1  sem2  sem3   sem4  ...  Higher_studies  placement  extra_curr  CET\n",
              "0  9.54  9.58  9.87  10.00  ...               0          0           0  109\n",
              "1  9.04  9.15  9.57   9.86  ...               0          0           1  125\n",
              "2  7.00  8.00  9.35   9.71  ...               0          1           1  180\n",
              "3  8.69  9.23  9.61   9.71  ...               1          0           1  179\n",
              "4  9.00  9.50  9.48   9.67  ...               0          1           1  172\n",
              "\n",
              "[5 rows x 16 columns]"
            ]
          },
          "metadata": {
            "tags": []
          },
          "execution_count": 15
        }
      ]
    },
    {
      "cell_type": "code",
      "metadata": {
        "id": "pXX5-ALRlnx8",
        "colab_type": "code",
        "colab": {}
      },
      "source": [
        "features = ['sem1','sem2','sem3','sem4','sem5','sem6','Travel','Study','Hobby','Room','comp_exam','Higher_studies','placement','extra_curr','CET']\n",
        "labels = 'sem7'\n",
        "X = df[features]\n",
        "Y = df[labels]"
      ],
      "execution_count": null,
      "outputs": []
    },
    {
      "cell_type": "code",
      "metadata": {
        "id": "IJzAKz89lnx_",
        "colab_type": "code",
        "colab": {
          "base_uri": "https://localhost:8080/",
          "height": 195
        },
        "outputId": "790be3e8-00b0-4b14-b662-aca66f922c6b"
      },
      "source": [
        "X.head()"
      ],
      "execution_count": null,
      "outputs": [
        {
          "output_type": "execute_result",
          "data": {
            "text/html": [
              "<div>\n",
              "<style scoped>\n",
              "    .dataframe tbody tr th:only-of-type {\n",
              "        vertical-align: middle;\n",
              "    }\n",
              "\n",
              "    .dataframe tbody tr th {\n",
              "        vertical-align: top;\n",
              "    }\n",
              "\n",
              "    .dataframe thead th {\n",
              "        text-align: right;\n",
              "    }\n",
              "</style>\n",
              "<table border=\"1\" class=\"dataframe\">\n",
              "  <thead>\n",
              "    <tr style=\"text-align: right;\">\n",
              "      <th></th>\n",
              "      <th>sem1</th>\n",
              "      <th>sem2</th>\n",
              "      <th>sem3</th>\n",
              "      <th>sem4</th>\n",
              "      <th>sem5</th>\n",
              "      <th>sem6</th>\n",
              "      <th>Travel</th>\n",
              "      <th>Study</th>\n",
              "      <th>Hobby</th>\n",
              "      <th>Room</th>\n",
              "      <th>comp_exam</th>\n",
              "      <th>Higher_studies</th>\n",
              "      <th>placement</th>\n",
              "      <th>extra_curr</th>\n",
              "      <th>CET</th>\n",
              "    </tr>\n",
              "  </thead>\n",
              "  <tbody>\n",
              "    <tr>\n",
              "      <th>0</th>\n",
              "      <td>9.54</td>\n",
              "      <td>9.58</td>\n",
              "      <td>9.87</td>\n",
              "      <td>10.00</td>\n",
              "      <td>9.00</td>\n",
              "      <td>9.09</td>\n",
              "      <td>0</td>\n",
              "      <td>2</td>\n",
              "      <td>0</td>\n",
              "      <td>1</td>\n",
              "      <td>0</td>\n",
              "      <td>0</td>\n",
              "      <td>0</td>\n",
              "      <td>0</td>\n",
              "      <td>109</td>\n",
              "    </tr>\n",
              "    <tr>\n",
              "      <th>1</th>\n",
              "      <td>9.04</td>\n",
              "      <td>9.15</td>\n",
              "      <td>9.57</td>\n",
              "      <td>9.86</td>\n",
              "      <td>8.95</td>\n",
              "      <td>9.09</td>\n",
              "      <td>1</td>\n",
              "      <td>1</td>\n",
              "      <td>1</td>\n",
              "      <td>1</td>\n",
              "      <td>1</td>\n",
              "      <td>0</td>\n",
              "      <td>0</td>\n",
              "      <td>1</td>\n",
              "      <td>125</td>\n",
              "    </tr>\n",
              "    <tr>\n",
              "      <th>2</th>\n",
              "      <td>7.00</td>\n",
              "      <td>8.00</td>\n",
              "      <td>9.35</td>\n",
              "      <td>9.71</td>\n",
              "      <td>9.00</td>\n",
              "      <td>8.91</td>\n",
              "      <td>3</td>\n",
              "      <td>4</td>\n",
              "      <td>1</td>\n",
              "      <td>0</td>\n",
              "      <td>1</td>\n",
              "      <td>0</td>\n",
              "      <td>1</td>\n",
              "      <td>1</td>\n",
              "      <td>180</td>\n",
              "    </tr>\n",
              "    <tr>\n",
              "      <th>3</th>\n",
              "      <td>8.69</td>\n",
              "      <td>9.23</td>\n",
              "      <td>9.61</td>\n",
              "      <td>9.71</td>\n",
              "      <td>8.91</td>\n",
              "      <td>9.09</td>\n",
              "      <td>2</td>\n",
              "      <td>4</td>\n",
              "      <td>1</td>\n",
              "      <td>1</td>\n",
              "      <td>0</td>\n",
              "      <td>1</td>\n",
              "      <td>0</td>\n",
              "      <td>1</td>\n",
              "      <td>179</td>\n",
              "    </tr>\n",
              "    <tr>\n",
              "      <th>4</th>\n",
              "      <td>9.00</td>\n",
              "      <td>9.50</td>\n",
              "      <td>9.48</td>\n",
              "      <td>9.67</td>\n",
              "      <td>9.00</td>\n",
              "      <td>9.13</td>\n",
              "      <td>3</td>\n",
              "      <td>3</td>\n",
              "      <td>0</td>\n",
              "      <td>1</td>\n",
              "      <td>1</td>\n",
              "      <td>0</td>\n",
              "      <td>1</td>\n",
              "      <td>1</td>\n",
              "      <td>172</td>\n",
              "    </tr>\n",
              "  </tbody>\n",
              "</table>\n",
              "</div>"
            ],
            "text/plain": [
              "   sem1  sem2  sem3   sem4  ...  Higher_studies  placement  extra_curr  CET\n",
              "0  9.54  9.58  9.87  10.00  ...               0          0           0  109\n",
              "1  9.04  9.15  9.57   9.86  ...               0          0           1  125\n",
              "2  7.00  8.00  9.35   9.71  ...               0          1           1  180\n",
              "3  8.69  9.23  9.61   9.71  ...               1          0           1  179\n",
              "4  9.00  9.50  9.48   9.67  ...               0          1           1  172\n",
              "\n",
              "[5 rows x 15 columns]"
            ]
          },
          "metadata": {
            "tags": []
          },
          "execution_count": 17
        }
      ]
    },
    {
      "cell_type": "markdown",
      "metadata": {
        "id": "XO4ZftwdlnyB",
        "colab_type": "text"
      },
      "source": [
        "## Normalise the data for effective PCA"
      ]
    },
    {
      "cell_type": "code",
      "metadata": {
        "id": "B7MOB1eTlnyB",
        "colab_type": "code",
        "colab": {
          "base_uri": "https://localhost:8080/",
          "height": 195
        },
        "outputId": "efaefc5c-0305-4fc9-a73f-1eb05021203d"
      },
      "source": [
        "X_values = StandardScaler().fit_transform(X.values)\n",
        "X = pd.DataFrame(data = X_values, columns = features)\n",
        "X.head()"
      ],
      "execution_count": null,
      "outputs": [
        {
          "output_type": "execute_result",
          "data": {
            "text/html": [
              "<div>\n",
              "<style scoped>\n",
              "    .dataframe tbody tr th:only-of-type {\n",
              "        vertical-align: middle;\n",
              "    }\n",
              "\n",
              "    .dataframe tbody tr th {\n",
              "        vertical-align: top;\n",
              "    }\n",
              "\n",
              "    .dataframe thead th {\n",
              "        text-align: right;\n",
              "    }\n",
              "</style>\n",
              "<table border=\"1\" class=\"dataframe\">\n",
              "  <thead>\n",
              "    <tr style=\"text-align: right;\">\n",
              "      <th></th>\n",
              "      <th>sem1</th>\n",
              "      <th>sem2</th>\n",
              "      <th>sem3</th>\n",
              "      <th>sem4</th>\n",
              "      <th>sem5</th>\n",
              "      <th>sem6</th>\n",
              "      <th>Travel</th>\n",
              "      <th>Study</th>\n",
              "      <th>Hobby</th>\n",
              "      <th>Room</th>\n",
              "      <th>comp_exam</th>\n",
              "      <th>Higher_studies</th>\n",
              "      <th>placement</th>\n",
              "      <th>extra_curr</th>\n",
              "      <th>CET</th>\n",
              "    </tr>\n",
              "  </thead>\n",
              "  <tbody>\n",
              "    <tr>\n",
              "      <th>0</th>\n",
              "      <td>1.666552</td>\n",
              "      <td>1.389031</td>\n",
              "      <td>2.087721</td>\n",
              "      <td>2.028616</td>\n",
              "      <td>2.026753</td>\n",
              "      <td>1.409014</td>\n",
              "      <td>-1.267450</td>\n",
              "      <td>-1.027752</td>\n",
              "      <td>-1.0</td>\n",
              "      <td>0.904534</td>\n",
              "      <td>-0.935414</td>\n",
              "      <td>-0.874475</td>\n",
              "      <td>-1.069045</td>\n",
              "      <td>-1.183216</td>\n",
              "      <td>-0.965944</td>\n",
              "    </tr>\n",
              "    <tr>\n",
              "      <th>1</th>\n",
              "      <td>0.953233</td>\n",
              "      <td>0.620821</td>\n",
              "      <td>1.286464</td>\n",
              "      <td>1.688013</td>\n",
              "      <td>1.927855</td>\n",
              "      <td>1.409014</td>\n",
              "      <td>-0.383183</td>\n",
              "      <td>-1.720619</td>\n",
              "      <td>1.0</td>\n",
              "      <td>0.904534</td>\n",
              "      <td>1.069045</td>\n",
              "      <td>-0.874475</td>\n",
              "      <td>-1.069045</td>\n",
              "      <td>0.845154</td>\n",
              "      <td>-0.408668</td>\n",
              "    </tr>\n",
              "    <tr>\n",
              "      <th>2</th>\n",
              "      <td>-1.957111</td>\n",
              "      <td>-1.433694</td>\n",
              "      <td>0.698875</td>\n",
              "      <td>1.323081</td>\n",
              "      <td>2.026753</td>\n",
              "      <td>1.048157</td>\n",
              "      <td>1.385352</td>\n",
              "      <td>0.357981</td>\n",
              "      <td>1.0</td>\n",
              "      <td>-1.105542</td>\n",
              "      <td>1.069045</td>\n",
              "      <td>-0.874475</td>\n",
              "      <td>0.935414</td>\n",
              "      <td>0.845154</td>\n",
              "      <td>1.506965</td>\n",
              "    </tr>\n",
              "    <tr>\n",
              "      <th>3</th>\n",
              "      <td>0.453909</td>\n",
              "      <td>0.763744</td>\n",
              "      <td>1.393298</td>\n",
              "      <td>1.323081</td>\n",
              "      <td>1.848736</td>\n",
              "      <td>1.409014</td>\n",
              "      <td>0.501085</td>\n",
              "      <td>0.357981</td>\n",
              "      <td>1.0</td>\n",
              "      <td>0.904534</td>\n",
              "      <td>-0.935414</td>\n",
              "      <td>1.143544</td>\n",
              "      <td>-1.069045</td>\n",
              "      <td>0.845154</td>\n",
              "      <td>1.472135</td>\n",
              "    </tr>\n",
              "    <tr>\n",
              "      <th>4</th>\n",
              "      <td>0.896167</td>\n",
              "      <td>1.246108</td>\n",
              "      <td>1.046086</td>\n",
              "      <td>1.225766</td>\n",
              "      <td>2.026753</td>\n",
              "      <td>1.489204</td>\n",
              "      <td>1.385352</td>\n",
              "      <td>-0.334885</td>\n",
              "      <td>-1.0</td>\n",
              "      <td>0.904534</td>\n",
              "      <td>1.069045</td>\n",
              "      <td>-0.874475</td>\n",
              "      <td>0.935414</td>\n",
              "      <td>0.845154</td>\n",
              "      <td>1.228327</td>\n",
              "    </tr>\n",
              "  </tbody>\n",
              "</table>\n",
              "</div>"
            ],
            "text/plain": [
              "       sem1      sem2      sem3  ...  placement  extra_curr       CET\n",
              "0  1.666552  1.389031  2.087721  ...  -1.069045   -1.183216 -0.965944\n",
              "1  0.953233  0.620821  1.286464  ...  -1.069045    0.845154 -0.408668\n",
              "2 -1.957111 -1.433694  0.698875  ...   0.935414    0.845154  1.506965\n",
              "3  0.453909  0.763744  1.393298  ...  -1.069045    0.845154  1.472135\n",
              "4  0.896167  1.246108  1.046086  ...   0.935414    0.845154  1.228327\n",
              "\n",
              "[5 rows x 15 columns]"
            ]
          },
          "metadata": {
            "tags": []
          },
          "execution_count": 18
        }
      ]
    },
    {
      "cell_type": "code",
      "metadata": {
        "id": "SUsV6X2JlnyD",
        "colab_type": "code",
        "colab": {
          "base_uri": "https://localhost:8080/",
          "height": 1000
        },
        "outputId": "e151523b-e03f-4d0b-f17f-f3db43837c4b"
      },
      "source": [
        "cor_mat2 = np.corrcoef(X.T)\n",
        "\n",
        "eig_vals, eig_vecs = np.linalg.eig(cor_mat2)\n",
        "\n",
        "print('Eigenvectors \\n%s' %eig_vecs)\n",
        "print('\\nEigenvalues \\n%s' %eig_vals)"
      ],
      "execution_count": null,
      "outputs": [
        {
          "output_type": "stream",
          "text": [
            "Eigenvectors \n",
            "[[ 4.11527631e-01  1.78608779e-01  2.75725554e-01 -1.47571620e-01\n",
            "   4.69481887e-01  2.66113793e-01  3.97009366e-01  2.90661195e-01\n",
            "  -1.22428142e-01  2.70013288e-01  1.04415204e-01  6.19860258e-02\n",
            "   1.98804830e-01 -1.59439300e-01 -5.18738515e-03]\n",
            " [ 3.76414153e-01  8.41120397e-02  2.12232347e-01 -1.17284985e-01\n",
            "  -2.69043442e-01 -2.18393432e-01 -2.74052278e-01 -1.33046239e-01\n",
            "  -4.81417039e-01 -3.53409613e-01  3.98324208e-02  1.83916610e-01\n",
            "   3.86327098e-01 -1.91189909e-01  4.09673708e-02]\n",
            " [ 4.19746746e-01  1.37241950e-03 -1.19019508e-01 -6.25544275e-03\n",
            "  -4.67731623e-02 -4.90547776e-01  1.77284562e-01 -7.86104134e-02\n",
            "   5.66926167e-01 -1.34760016e-02 -3.81892929e-03  1.30307219e-01\n",
            "  -1.18756572e-01 -3.39550332e-01  2.47371709e-01]\n",
            " [ 4.34708421e-01  6.48736847e-02 -2.86443402e-01  9.58662150e-02\n",
            "  -2.31169987e-01  5.93551532e-01 -3.30772000e-01  2.23319147e-01\n",
            "   1.29656593e-01 -1.55768508e-01  9.68131975e-02 -1.75124779e-01\n",
            "  -2.16037240e-01 -1.35511107e-01  6.63611712e-02]\n",
            " [ 3.80220271e-01 -1.30860652e-01 -2.57063202e-01  2.56324808e-01\n",
            "   5.78358024e-01 -1.79896847e-01 -1.01519113e-01 -2.58218899e-01\n",
            "  -1.69654726e-01 -2.21966862e-01 -3.06461017e-02 -1.60408261e-01\n",
            "  -1.31348820e-01  3.45165770e-01 -1.46854348e-01]\n",
            " [ 3.77966616e-01 -2.22427224e-01 -3.30214279e-03  1.86163983e-01\n",
            "  -5.07505342e-01 -2.02516929e-02  3.18033591e-01  1.90980452e-02\n",
            "  -1.06000132e-01  3.57733299e-01 -2.70588143e-01 -3.49622051e-03\n",
            "   5.52997035e-02  4.28440857e-01 -1.20243909e-01]\n",
            " [-5.61491867e-02 -2.81505748e-01 -4.48541111e-01 -3.18755558e-01\n",
            "  -9.22020416e-02 -1.18825119e-01  3.98130282e-01  1.60970014e-01\n",
            "  -4.52002712e-01 -1.13167293e-01  1.68345480e-01 -1.04393924e-01\n",
            "  -2.88627755e-01 -2.60014731e-01 -2.24195263e-02]\n",
            " [-1.32719090e-01 -1.91935404e-01  2.58180777e-02  5.93662086e-01\n",
            "  -6.33486927e-03  1.43989785e-02  2.83128422e-01  4.15555194e-01\n",
            "   6.66213810e-02 -4.71086257e-01  1.33845971e-01  2.19993078e-01\n",
            "   2.15275822e-01 -2.38184559e-03  1.81160948e-02]\n",
            " [ 8.73640394e-02 -3.45380799e-01  3.38139653e-01 -3.02696467e-01\n",
            "   1.58873669e-02 -2.38463761e-01 -2.63369839e-01  4.61402915e-01\n",
            "   9.70731460e-02 -3.09125105e-02  3.15056643e-01 -1.48258038e-01\n",
            "  -1.41081724e-01  3.77545580e-01  1.83514919e-01]\n",
            " [-1.80852109e-02  5.63192849e-02 -3.10486219e-01 -3.80824849e-01\n",
            "  -1.16890195e-02  2.18557507e-01  2.42841656e-01 -2.05526966e-01\n",
            "   1.98343530e-01 -2.57629638e-01  1.18268339e-01  3.56586691e-02\n",
            "   4.28382418e-01  4.17587675e-01  3.56498660e-01]\n",
            " [-3.25706424e-04 -4.29339807e-01 -2.83033456e-02 -2.71432720e-01\n",
            "   1.53750235e-01  8.31346108e-02 -1.10504762e-01  1.91909862e-01\n",
            "   1.59715288e-01 -1.65817420e-01 -6.93381681e-01 -7.44369103e-02\n",
            "   2.49301558e-01 -1.83679609e-01 -1.62438798e-01]\n",
            " [ 6.08931420e-02 -4.43227563e-01  3.64611298e-01 -9.43245738e-02\n",
            "   3.85094814e-03  3.50464821e-01  1.28056256e-01 -4.41457019e-01\n",
            "   6.51989401e-02 -1.66342247e-01  1.07449531e-01  4.02131891e-01\n",
            "  -3.39195810e-01 -3.76044554e-02 -4.72832646e-02]\n",
            " [-5.52665282e-02 -3.19617475e-01 -2.09108334e-01  2.05197262e-01\n",
            "   1.56817250e-01  5.51256309e-02 -2.52876944e-01  3.11362469e-03\n",
            "  -2.28810336e-01  4.00173016e-01 -5.92805555e-02  2.93709135e-01\n",
            "   9.68324450e-02 -9.34630158e-02  6.30069385e-01]\n",
            " [ 2.26648904e-02 -2.90878531e-01 -2.72377991e-01 -3.46670747e-02\n",
            "   1.94180106e-03 -1.98237166e-02 -1.98573724e-01 -4.63365208e-02\n",
            "   1.86996165e-01  2.86261239e-01  4.67546332e-01  1.63991464e-01\n",
            "   3.88132581e-01 -1.00444805e-01 -5.23800692e-01]\n",
            " [-1.92257217e-02 -2.90037540e-01  2.28846297e-01  1.95716345e-01\n",
            "  -4.83284799e-02  6.03850326e-02  1.26468724e-01 -2.95161114e-01\n",
            "   2.05984831e-02  3.46385085e-02  1.73280089e-01 -7.25247902e-01\n",
            "   2.44639601e-01 -2.51309790e-01  1.87341634e-01]]\n",
            "\n",
            "Eigenvalues \n",
            "[2.98692805 1.77909947 1.59839644 1.51100715 0.1763026  0.23043431\n",
            " 0.38651562 0.46060908 0.51636766 0.59689802 0.77769616 0.9024171\n",
            " 0.9699344  1.03809512 1.06929883]\n"
          ],
          "name": "stdout"
        }
      ]
    },
    {
      "cell_type": "code",
      "metadata": {
        "id": "RMHqJm-alnyH",
        "colab_type": "code",
        "colab": {
          "base_uri": "https://localhost:8080/",
          "height": 286
        },
        "outputId": "3f509796-4d35-4663-fbb7-5fb2c1595276"
      },
      "source": [
        "# Make a list of (eigenvalue, eigenvector) tuples\n",
        "eig_pairs = [(np.abs(eig_vals[i]), eig_vecs[:,i]) for i in range(len(eig_vals))]\n",
        "\n",
        "# Sort the (eigenvalue, eigenvector) tuples from high to low\n",
        "eig_pairs = sorted(eig_pairs, reverse=True)\n",
        "\n",
        "\n",
        "# Visually confirm that the list is correctly sorted by decreasing eigenvalues\n",
        "print('Eigenvalues in descending order:')\n",
        "for i in eig_pairs:\n",
        "    print(i[0])"
      ],
      "execution_count": null,
      "outputs": [
        {
          "output_type": "stream",
          "text": [
            "Eigenvalues in descending order:\n",
            "2.986928045099488\n",
            "1.779099467908785\n",
            "1.598396441303646\n",
            "1.5110071485480008\n",
            "1.0692988344308019\n",
            "1.0380951245188947\n",
            "0.9699344011521908\n",
            "0.9024170955842682\n",
            "0.777696164163468\n",
            "0.5968980155473191\n",
            "0.5163676613173213\n",
            "0.46060908159670133\n",
            "0.386515615588508\n",
            "0.23043430778911983\n",
            "0.17630259545149385\n"
          ],
          "name": "stdout"
        }
      ]
    },
    {
      "cell_type": "code",
      "metadata": {
        "id": "C_uo9JvLlnyK",
        "colab_type": "code",
        "colab": {
          "base_uri": "https://localhost:8080/",
          "height": 265
        },
        "outputId": "bb5ddcf8-7f7c-457e-90b1-316312dcce39"
      },
      "source": [
        "tot = sum(eig_vals)\n",
        "var_exp = [(i / tot)*100 for i in sorted(eig_vals, reverse=True)]\n",
        "cum_var_exp = np.cumsum(var_exp)\n",
        "\n",
        "plt.bar([i for i in range(len(var_exp))], var_exp)\n",
        "plt.xticks(np.arange(15), ['P'+str(i) for i in range(15)])\n",
        "plt.ylabel('Explained variance in percentage')\n",
        "plt.show()"
      ],
      "execution_count": null,
      "outputs": [
        {
          "output_type": "display_data",
          "data": {
            "image/png": "[encoded data removed]",
            "text/plain": [
              "<Figure size 432x288 with 1 Axes>"
            ]
          },
          "metadata": {
            "tags": []
          }
        }
      ]
    },
    {
      "cell_type": "markdown",
      "metadata": {
        "id": "TqVT9mQClnyM",
        "colab_type": "text"
      },
      "source": [
        "## Making a new Dataset from principal components"
      ]
    },
    {
      "cell_type": "code",
      "metadata": {
        "id": "hCUVx8T9lnyN",
        "colab_type": "code",
        "colab": {}
      },
      "source": [
        "scaler = StandardScaler()\n",
        "scaler.fit(X.values)\n",
        "normX = scaler.transform(X.values)"
      ],
      "execution_count": null,
      "outputs": []
    },
    {
      "cell_type": "code",
      "metadata": {
        "id": "cv4desW_lnyP",
        "colab_type": "code",
        "colab": {}
      },
      "source": [
        "from sklearn.linear_model import LinearRegression\n",
        "from sklearn.model_selection import train_test_split"
      ],
      "execution_count": null,
      "outputs": []
    },
    {
      "cell_type": "code",
      "metadata": {
        "id": "wuP5ccrqlnyR",
        "colab_type": "code",
        "colab": {
          "base_uri": "https://localhost:8080/",
          "height": 34
        },
        "outputId": "76d9389e-f777-4624-8205-7f52d23dc5e6"
      },
      "source": [
        "xtrain, xtest, ytrain, ytest = train_test_split(normX, Y, test_size=0.2, random_state=7)\n",
        "model = LinearRegression()\n",
        "model.fit(xtrain, ytrain)\n",
        "model.score(xtest, ytest)"
      ],
      "execution_count": null,
      "outputs": [
        {
          "output_type": "execute_result",
          "data": {
            "text/plain": [
              "0.165217480337584"
            ]
          },
          "metadata": {
            "tags": []
          },
          "execution_count": 24
        }
      ]
    },
    {
      "cell_type": "code",
      "metadata": {
        "id": "HC02Z8l-lnyT",
        "colab_type": "code",
        "colab": {
          "base_uri": "https://localhost:8080/",
          "height": 195
        },
        "outputId": "46a2af6e-238e-469e-c983-8dd41622e3c7"
      },
      "source": [
        "components = 14\n",
        "pca = PCA(n_components=components)\n",
        "pcs = pca.fit_transform(normX)\n",
        "new_df = pd.DataFrame(data = pcs, columns=['PC'+str(i) for i in range(components)])\n",
        "new_df.head()"
      ],
      "execution_count": null,
      "outputs": [
        {
          "output_type": "execute_result",
          "data": {
            "text/html": [
              "<div>\n",
              "<style scoped>\n",
              "    .dataframe tbody tr th:only-of-type {\n",
              "        vertical-align: middle;\n",
              "    }\n",
              "\n",
              "    .dataframe tbody tr th {\n",
              "        vertical-align: top;\n",
              "    }\n",
              "\n",
              "    .dataframe thead th {\n",
              "        text-align: right;\n",
              "    }\n",
              "</style>\n",
              "<table border=\"1\" class=\"dataframe\">\n",
              "  <thead>\n",
              "    <tr style=\"text-align: right;\">\n",
              "      <th></th>\n",
              "      <th>PC0</th>\n",
              "      <th>PC1</th>\n",
              "      <th>PC2</th>\n",
              "      <th>PC3</th>\n",
              "      <th>PC4</th>\n",
              "      <th>PC5</th>\n",
              "      <th>PC6</th>\n",
              "      <th>PC7</th>\n",
              "      <th>PC8</th>\n",
              "      <th>PC9</th>\n",
              "      <th>PC10</th>\n",
              "      <th>PC11</th>\n",
              "      <th>PC12</th>\n",
              "      <th>PC13</th>\n",
              "    </tr>\n",
              "  </thead>\n",
              "  <tbody>\n",
              "    <tr>\n",
              "      <th>0</th>\n",
              "      <td>4.371763</td>\n",
              "      <td>2.675938</td>\n",
              "      <td>0.645520</td>\n",
              "      <td>-0.275468</td>\n",
              "      <td>0.339540</td>\n",
              "      <td>0.786572</td>\n",
              "      <td>0.069056</td>\n",
              "      <td>0.057255</td>\n",
              "      <td>0.687194</td>\n",
              "      <td>0.404784</td>\n",
              "      <td>-0.464463</td>\n",
              "      <td>0.643212</td>\n",
              "      <td>-0.284390</td>\n",
              "      <td>-0.020877</td>\n",
              "    </tr>\n",
              "    <tr>\n",
              "      <th>1</th>\n",
              "      <td>3.518696</td>\n",
              "      <td>0.054727</td>\n",
              "      <td>1.006813</td>\n",
              "      <td>1.386069</td>\n",
              "      <td>-0.843529</td>\n",
              "      <td>1.146116</td>\n",
              "      <td>-0.410858</td>\n",
              "      <td>1.033642</td>\n",
              "      <td>0.477854</td>\n",
              "      <td>-0.191985</td>\n",
              "      <td>-0.899201</td>\n",
              "      <td>-0.167547</td>\n",
              "      <td>0.732285</td>\n",
              "      <td>0.224390</td>\n",
              "    </tr>\n",
              "    <tr>\n",
              "      <th>2</th>\n",
              "      <td>0.557166</td>\n",
              "      <td>-2.801335</td>\n",
              "      <td>2.191326</td>\n",
              "      <td>-1.433214</td>\n",
              "      <td>-0.150060</td>\n",
              "      <td>0.158502</td>\n",
              "      <td>1.107094</td>\n",
              "      <td>2.218767</td>\n",
              "      <td>0.250724</td>\n",
              "      <td>-0.252960</td>\n",
              "      <td>-0.406853</td>\n",
              "      <td>-0.529633</td>\n",
              "      <td>0.893067</td>\n",
              "      <td>0.882390</td>\n",
              "    </tr>\n",
              "    <tr>\n",
              "      <th>3</th>\n",
              "      <td>2.984986</td>\n",
              "      <td>-1.262844</td>\n",
              "      <td>0.122025</td>\n",
              "      <td>-0.288873</td>\n",
              "      <td>-0.220887</td>\n",
              "      <td>0.769024</td>\n",
              "      <td>0.088502</td>\n",
              "      <td>0.986154</td>\n",
              "      <td>-1.802059</td>\n",
              "      <td>0.937811</td>\n",
              "      <td>-0.507160</td>\n",
              "      <td>0.890638</td>\n",
              "      <td>-0.836341</td>\n",
              "      <td>0.064227</td>\n",
              "    </tr>\n",
              "    <tr>\n",
              "      <th>4</th>\n",
              "      <td>2.896456</td>\n",
              "      <td>-1.152480</td>\n",
              "      <td>2.232803</td>\n",
              "      <td>-0.142500</td>\n",
              "      <td>0.256130</td>\n",
              "      <td>-0.568554</td>\n",
              "      <td>-1.425533</td>\n",
              "      <td>1.070451</td>\n",
              "      <td>0.509550</td>\n",
              "      <td>-0.105291</td>\n",
              "      <td>0.942456</td>\n",
              "      <td>0.579783</td>\n",
              "      <td>-0.522779</td>\n",
              "      <td>0.055919</td>\n",
              "    </tr>\n",
              "  </tbody>\n",
              "</table>\n",
              "</div>"
            ],
            "text/plain": [
              "        PC0       PC1       PC2  ...      PC11      PC12      PC13\n",
              "0  4.371763  2.675938  0.645520  ...  0.643212 -0.284390 -0.020877\n",
              "1  3.518696  0.054727  1.006813  ... -0.167547  0.732285  0.224390\n",
              "2  0.557166 -2.801335  2.191326  ... -0.529633  0.893067  0.882390\n",
              "3  2.984986 -1.262844  0.122025  ...  0.890638 -0.836341  0.064227\n",
              "4  2.896456 -1.152480  2.232803  ...  0.579783 -0.522779  0.055919\n",
              "\n",
              "[5 rows x 14 columns]"
            ]
          },
          "metadata": {
            "tags": []
          },
          "execution_count": 59
        }
      ]
    },
    {
      "cell_type": "code",
      "metadata": {
        "id": "NZNyPjielnyW",
        "colab_type": "code",
        "colab": {}
      },
      "source": [
        "xtrain, xtest, ytrain, ytest = train_test_split(new_df, Y, test_size=0.2, random_state=7)"
      ],
      "execution_count": null,
      "outputs": []
    },
    {
      "cell_type": "code",
      "metadata": {
        "id": "3DCIL4RAlnyZ",
        "colab_type": "code",
        "colab": {
          "base_uri": "https://localhost:8080/",
          "height": 34
        },
        "outputId": "38224d19-3d27-4f93-e5fa-c47f74a64cbc"
      },
      "source": [
        "model = LinearRegression()\n",
        "model.fit(xtrain, ytrain)\n",
        "model.score(xtest, ytest)"
      ],
      "execution_count": null,
      "outputs": [
        {
          "output_type": "execute_result",
          "data": {
            "text/plain": [
              "0.1716441458523822"
            ]
          },
          "metadata": {
            "tags": []
          },
          "execution_count": 61
        }
      ]
    }
  ]
}